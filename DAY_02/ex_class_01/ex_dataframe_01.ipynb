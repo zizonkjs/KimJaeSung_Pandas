{
 "cells": [
  {
   "cell_type": "markdown",
   "metadata": {},
   "source": [
    "### DataFrame 살펴보기\n",
    "- 판다스에서 데이터를 저장하는 자료형\n",
    "- 구성 : 2차원 데이터를 저장  인덱스 + 열이름 + 데이터값\n",
    "- 형식 : pandas.DataFrame(2차원데이터)"
   ]
  },
  {
   "cell_type": "code",
   "execution_count": 6,
   "metadata": {},
   "outputs": [],
   "source": [
    "# 모듈 로딩\n",
    "import pandas as pd"
   ]
  },
  {
   "cell_type": "code",
   "execution_count": 7,
   "metadata": {},
   "outputs": [],
   "source": [
    "# 데이터 준비\n",
    "jumsu=[[98,99,100], [67, 81, 80]]"
   ]
  },
  {
   "cell_type": "code",
   "execution_count": 8,
   "metadata": {},
   "outputs": [],
   "source": [
    "#DF으로 데이터 저장\n",
    "jumsuDF=pd.DataFrame(jumsu)"
   ]
  },
  {
   "cell_type": "code",
   "execution_count": 9,
   "metadata": {},
   "outputs": [
    {
     "name": "stdout",
     "output_type": "stream",
     "text": [
      "    0   1    2\n",
      "0  98  99  100\n",
      "1  67  81   80\n"
     ]
    }
   ],
   "source": [
    "# DF으로 저장된 데이터 확인\n",
    "print(jumsuDF)"
   ]
  },
  {
   "cell_type": "code",
   "execution_count": 19,
   "metadata": {},
   "outputs": [
    {
     "name": "stdout",
     "output_type": "stream",
     "text": [
      "RangeIndex(start=0, stop=2, step=1)\n",
      "\n",
      "RangeIndex(start=0, stop=3, step=1)\n",
      "\n",
      "[[ 98  99 100]\n",
      " [ 67  81  80]]\n",
      "\n",
      "2\n",
      "\n",
      "0    int64\n",
      "1    int64\n",
      "2    int64\n",
      "dtype: object\n",
      "\n",
      "(2, 3)\n"
     ]
    }
   ],
   "source": [
    "# DF의 속성읽기\n",
    "#- index, colums, values, ndim, dtypes\n",
    "print(jumsuDF.index) #행요소\n",
    "print()\n",
    "print(jumsuDF.columns) #열요소\n",
    "print()\n",
    "print(jumsuDF.values)\n",
    "print()\n",
    "print(jumsuDF.ndim)\n",
    "print()\n",
    "print(jumsuDF.dtypes)\n",
    "print()\n",
    "print(jumsuDF.shape)\n"
   ]
  },
  {
   "cell_type": "code",
   "execution_count": 20,
   "metadata": {},
   "outputs": [
    {
     "name": "stdout",
     "output_type": "stream",
     "text": [
      "    0   1    2\n",
      "0  98  99  100\n",
      "1  67  81   80\n"
     ]
    }
   ],
   "source": [
    "## DF 안에 있는 모든 원소를 하나씩 출력하세요.\n",
    "print(jumsuDF)"
   ]
  },
  {
   "cell_type": "code",
   "execution_count": 23,
   "metadata": {},
   "outputs": [
    {
     "name": "stdout",
     "output_type": "stream",
     "text": [
      "0 0\n",
      "0 1\n",
      "0 2\n",
      "1 0\n",
      "1 1\n",
      "1 2\n"
     ]
    }
   ],
   "source": [
    "# 속성활용해서 요소 빼내기\n",
    "for r in jumsuDF.index: # range(0,2,1)\n",
    "    for c in jumsuDF.columns: # range(0, 3, 1)\n",
    "        print(r,c)"
   ]
  },
  {
   "cell_type": "markdown",
   "metadata": {},
   "source": [
    "- DataFrame 생성시 인덱스 지정 <hr> "
   ]
  },
  {
   "cell_type": "code",
   "execution_count": 27,
   "metadata": {},
   "outputs": [],
   "source": [
    "index_value=['A','B']\n",
    "column_value=['국어', '과학', '미술']\n",
    "df2=pd.DataFrame(jumsu, index=index_value, columns=column_value)  # 인덱스번호 0,1,2 를 문자 A B로 쓰겟다라는 말\n"
   ]
  },
  {
   "cell_type": "code",
   "execution_count": 28,
   "metadata": {},
   "outputs": [
    {
     "name": "stdout",
     "output_type": "stream",
     "text": [
      "   국어  과학   미술\n",
      "A  98  99  100\n",
      "B  67  81   80\n"
     ]
    }
   ],
   "source": [
    "#데이터저장 확인\n",
    "print(df2)"
   ]
  },
  {
   "cell_type": "code",
   "execution_count": 29,
   "metadata": {},
   "outputs": [
    {
     "name": "stdout",
     "output_type": "stream",
     "text": [
      "Index(['A', 'B'], dtype='object')\n",
      "<class 'pandas.core.indexes.base.Index'>\n"
     ]
    }
   ],
   "source": [
    "# DF 인덱스 속성 읽기 ==> 변수명.index\n",
    "print(df2.index, type(df2.index), sep='\\n')\n"
   ]
  },
  {
   "cell_type": "code",
   "execution_count": 31,
   "metadata": {},
   "outputs": [
    {
     "name": "stdout",
     "output_type": "stream",
     "text": [
      "Index(['국어', '과학', '미술'], dtype='object')\n",
      "<class 'pandas.core.indexes.base.Index'>\n"
     ]
    },
    {
     "ename": "",
     "evalue": "",
     "output_type": "error",
     "traceback": [
      "\u001b[1;31mThe Kernel crashed while executing code in the current cell or a previous cell. \n",
      "\u001b[1;31mPlease review the code in the cell(s) to identify a possible cause of the failure. \n",
      "\u001b[1;31mClick <a href='https://aka.ms/vscodeJupyterKernelCrash'>here</a> for more info. \n",
      "\u001b[1;31mView Jupyter <a href='command:jupyter.viewOutput'>log</a> for further details."
     ]
    }
   ],
   "source": [
    "# DF 인덱스 속성 읽기 ==> 변수명.columns\n",
    "print(df2.columns, type(df2.columns), sep='\\n')"
   ]
  },
  {
   "cell_type": "code",
   "execution_count": null,
   "metadata": {},
   "outputs": [],
   "source": []
  }
 ],
 "metadata": {
  "kernelspec": {
   "display_name": "PY_39",
   "language": "python",
   "name": "python3"
  },
  "language_info": {
   "codemirror_mode": {
    "name": "ipython",
    "version": 3
   },
   "file_extension": ".py",
   "mimetype": "text/x-python",
   "name": "python",
   "nbconvert_exporter": "python",
   "pygments_lexer": "ipython3",
   "version": "3.9.19"
  }
 },
 "nbformat": 4,
 "nbformat_minor": 2
}

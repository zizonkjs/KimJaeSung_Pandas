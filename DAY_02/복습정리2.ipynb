{
 "cells": [
  {
   "cell_type": "markdown",
   "metadata": {},
   "source": [
    "## 데이터셋 불러오기"
   ]
  },
  {
   "cell_type": "code",
   "execution_count": 1,
   "metadata": {},
   "outputs": [],
   "source": [
    "import pandas as pd"
   ]
  },
  {
   "cell_type": "code",
   "execution_count": 3,
   "metadata": {},
   "outputs": [],
   "source": [
    "df=pd.read_csv(r'C:\\Users\\KDP-26\\Downloads\\gapminder-main\\gapminder-main\\inst\\extdata\\gapminder.tsv', sep='\\t')"
   ]
  },
  {
   "cell_type": "code",
   "execution_count": 4,
   "metadata": {},
   "outputs": [
    {
     "name": "stdout",
     "output_type": "stream",
     "text": [
      "          country continent  year  lifeExp       pop   gdpPercap\n",
      "0     Afghanistan      Asia  1952   28.801   8425333  779.445314\n",
      "1     Afghanistan      Asia  1957   30.332   9240934  820.853030\n",
      "2     Afghanistan      Asia  1962   31.997  10267083  853.100710\n",
      "3     Afghanistan      Asia  1967   34.020  11537966  836.197138\n",
      "4     Afghanistan      Asia  1972   36.088  13079460  739.981106\n",
      "...           ...       ...   ...      ...       ...         ...\n",
      "1699     Zimbabwe    Africa  1987   62.351   9216418  706.157306\n",
      "1700     Zimbabwe    Africa  1992   60.377  10704340  693.420786\n",
      "1701     Zimbabwe    Africa  1997   46.809  11404948  792.449960\n",
      "1702     Zimbabwe    Africa  2002   39.989  11926563  672.038623\n",
      "1703     Zimbabwe    Africa  2007   43.487  12311143  469.709298\n",
      "\n",
      "[1704 rows x 6 columns]\n"
     ]
    }
   ],
   "source": [
    "print(df)"
   ]
  },
  {
   "cell_type": "code",
   "execution_count": 5,
   "metadata": {},
   "outputs": [
    {
     "name": "stdout",
     "output_type": "stream",
     "text": [
      "<class 'pandas.core.frame.DataFrame'>\n"
     ]
    }
   ],
   "source": [
    "# 내장 함수 type을 사용하여 실행결과 df의 자료형이 무엇인지 확인하기\n",
    "print(type(df))"
   ]
  },
  {
   "cell_type": "code",
   "execution_count": 6,
   "metadata": {},
   "outputs": [
    {
     "name": "stdout",
     "output_type": "stream",
     "text": [
      "(1704, 6)\n"
     ]
    }
   ],
   "source": [
    "# shape 속성을 사용하여 행과 열의 갯수를 파악할 수 있음.\n",
    "print(df.shape) # shape는 메서드가 아님! 그래서 이름뒤에 ()를 넣지 않음."
   ]
  },
  {
   "cell_type": "code",
   "execution_count": 7,
   "metadata": {},
   "outputs": [
    {
     "name": "stdout",
     "output_type": "stream",
     "text": [
      "Index(['country', 'continent', 'year', 'lifeExp', 'pop', 'gdpPercap'], dtype='object')\n"
     ]
    }
   ],
   "source": [
    "# 모든 열 출력하기\n",
    "print(df.columns)"
   ]
  },
  {
   "cell_type": "code",
   "execution_count": 8,
   "metadata": {},
   "outputs": [
    {
     "name": "stdout",
     "output_type": "stream",
     "text": [
      "<class 'pandas.core.frame.DataFrame'>\n",
      "RangeIndex: 1704 entries, 0 to 1703\n",
      "Data columns (total 6 columns):\n",
      " #   Column     Non-Null Count  Dtype  \n",
      "---  ------     --------------  -----  \n",
      " 0   country    1704 non-null   object \n",
      " 1   continent  1704 non-null   object \n",
      " 2   year       1704 non-null   int64  \n",
      " 3   lifeExp    1704 non-null   float64\n",
      " 4   pop        1704 non-null   int64  \n",
      " 5   gdpPercap  1704 non-null   float64\n",
      "dtypes: float64(2), int64(2), object(2)\n",
      "memory usage: 80.0+ KB\n",
      "None\n"
     ]
    }
   ],
   "source": [
    "# 데이터와 관련된 다양한 정보를 확인하고 싶으면 info()메서드 사용\n",
    "print(df.info())"
   ]
  },
  {
   "cell_type": "markdown",
   "metadata": {},
   "source": [
    "## 데이터 추출하기"
   ]
  },
  {
   "cell_type": "code",
   "execution_count": 9,
   "metadata": {},
   "outputs": [
    {
     "name": "stdout",
     "output_type": "stream",
     "text": [
      "       country continent  year  lifeExp       pop   gdpPercap\n",
      "0  Afghanistan      Asia  1952   28.801   8425333  779.445314\n",
      "1  Afghanistan      Asia  1957   30.332   9240934  820.853030\n",
      "2  Afghanistan      Asia  1962   31.997  10267083  853.100710\n",
      "3  Afghanistan      Asia  1967   34.020  11537966  836.197138\n",
      "4  Afghanistan      Asia  1972   36.088  13079460  739.981106\n"
     ]
    }
   ],
   "source": [
    "# 메서드 head() 앞 5개 행을 확인\n",
    "print(df.head())"
   ]
  },
  {
   "cell_type": "code",
   "execution_count": 10,
   "metadata": {},
   "outputs": [],
   "source": [
    "# 문자열로 columns 데이터 추출하기\n",
    "country_df = df['country']"
   ]
  },
  {
   "cell_type": "code",
   "execution_count": 11,
   "metadata": {},
   "outputs": [
    {
     "name": "stdout",
     "output_type": "stream",
     "text": [
      "0    Afghanistan\n",
      "1    Afghanistan\n",
      "2    Afghanistan\n",
      "3    Afghanistan\n",
      "4    Afghanistan\n",
      "Name: country, dtype: object\n"
     ]
    }
   ],
   "source": [
    "# country_df에서 head() 사용\n",
    "print(country_df.head())"
   ]
  },
  {
   "cell_type": "code",
   "execution_count": 12,
   "metadata": {},
   "outputs": [
    {
     "name": "stdout",
     "output_type": "stream",
     "text": [
      "1699    Zimbabwe\n",
      "1700    Zimbabwe\n",
      "1701    Zimbabwe\n",
      "1702    Zimbabwe\n",
      "1703    Zimbabwe\n",
      "Name: country, dtype: object\n"
     ]
    }
   ],
   "source": [
    "# 마지막 5개 행을 출력하기 tail()\n",
    "print(country_df.tail())"
   ]
  },
  {
   "cell_type": "markdown",
   "metadata": {},
   "source": [
    "### 리스트로 열 데이터 추출하기"
   ]
  },
  {
   "cell_type": "code",
   "execution_count": 13,
   "metadata": {},
   "outputs": [],
   "source": [
    "# 3개의 열데이터를 추출하고 변수에 저장하기\n",
    "subset=df[['country', 'continent', 'year']]"
   ]
  },
  {
   "cell_type": "code",
   "execution_count": 14,
   "metadata": {},
   "outputs": [
    {
     "name": "stdout",
     "output_type": "stream",
     "text": [
      "          country continent  year\n",
      "0     Afghanistan      Asia  1952\n",
      "1     Afghanistan      Asia  1957\n",
      "2     Afghanistan      Asia  1962\n",
      "3     Afghanistan      Asia  1967\n",
      "4     Afghanistan      Asia  1972\n",
      "...           ...       ...   ...\n",
      "1699     Zimbabwe    Africa  1987\n",
      "1700     Zimbabwe    Africa  1992\n",
      "1701     Zimbabwe    Africa  1997\n",
      "1702     Zimbabwe    Africa  2002\n",
      "1703     Zimbabwe    Africa  2007\n",
      "\n",
      "[1704 rows x 3 columns]\n"
     ]
    }
   ],
   "source": [
    "print(subset)"
   ]
  },
  {
   "cell_type": "code",
   "execution_count": 15,
   "metadata": {},
   "outputs": [
    {
     "name": "stdout",
     "output_type": "stream",
     "text": [
      "<class 'pandas.core.series.Series'>\n"
     ]
    }
   ],
   "source": [
    "# 열 데이터를 추출하는 두 가지 방법의 차이점 이해하기\n",
    "country_df=df['country']\n",
    "print(type(country_df))"
   ]
  },
  {
   "cell_type": "code",
   "execution_count": 16,
   "metadata": {},
   "outputs": [
    {
     "name": "stdout",
     "output_type": "stream",
     "text": [
      "0       Afghanistan\n",
      "1       Afghanistan\n",
      "2       Afghanistan\n",
      "3       Afghanistan\n",
      "4       Afghanistan\n",
      "           ...     \n",
      "1699       Zimbabwe\n",
      "1700       Zimbabwe\n",
      "1701       Zimbabwe\n",
      "1702       Zimbabwe\n",
      "1703       Zimbabwe\n",
      "Name: country, Length: 1704, dtype: object\n"
     ]
    }
   ],
   "source": [
    "print(country_df)"
   ]
  },
  {
   "cell_type": "code",
   "execution_count": 18,
   "metadata": {},
   "outputs": [
    {
     "name": "stdout",
     "output_type": "stream",
     "text": [
      "<class 'pandas.core.frame.DataFrame'>\n",
      "          country\n",
      "0     Afghanistan\n",
      "1     Afghanistan\n",
      "2     Afghanistan\n",
      "3     Afghanistan\n",
      "4     Afghanistan\n",
      "...           ...\n",
      "1699     Zimbabwe\n",
      "1700     Zimbabwe\n",
      "1701     Zimbabwe\n",
      "1702     Zimbabwe\n",
      "1703     Zimbabwe\n",
      "\n",
      "[1704 rows x 1 columns]\n"
     ]
    }
   ],
   "source": [
    "# country 열만 포함하는 요소가 하나인 리스트로 열 데이터 추출하기\n",
    "country_df_lsit=df[['country']]\n",
    "print(type(country_df_lsit))\n",
    "print(country_df_lsit)"
   ]
  },
  {
   "cell_type": "code",
   "execution_count": 19,
   "metadata": {},
   "outputs": [
    {
     "name": "stdout",
     "output_type": "stream",
     "text": [
      "0       Afghanistan\n",
      "1       Afghanistan\n",
      "2       Afghanistan\n",
      "3       Afghanistan\n",
      "4       Afghanistan\n",
      "           ...     \n",
      "1699       Zimbabwe\n",
      "1700       Zimbabwe\n",
      "1701       Zimbabwe\n",
      "1702       Zimbabwe\n",
      "1703       Zimbabwe\n",
      "Name: country, Length: 1704, dtype: object\n",
      "0       Afghanistan\n",
      "1       Afghanistan\n",
      "2       Afghanistan\n",
      "3       Afghanistan\n",
      "4       Afghanistan\n",
      "           ...     \n",
      "1699       Zimbabwe\n",
      "1700       Zimbabwe\n",
      "1701       Zimbabwe\n",
      "1702       Zimbabwe\n",
      "1703       Zimbabwe\n",
      "Name: country, Length: 1704, dtype: object\n"
     ]
    }
   ],
   "source": [
    "# 점표기법으로 열 데이터 추출하기\n",
    "print(df['country'])\n",
    "print(df.country)"
   ]
  },
  {
   "cell_type": "markdown",
   "metadata": {},
   "source": [
    "## 행 데이터 추출하기\n",
    "- loc 행 이름을 기준으로 행 추출\n",
    "- 행 index번호를 기준으로 행 추출"
   ]
  },
  {
   "cell_type": "code",
   "execution_count": 20,
   "metadata": {},
   "outputs": [
    {
     "name": "stdout",
     "output_type": "stream",
     "text": [
      "country      Afghanistan\n",
      "continent           Asia\n",
      "year                1952\n",
      "lifeExp           28.801\n",
      "pop              8425333\n",
      "gdpPercap     779.445314\n",
      "Name: 0, dtype: object\n"
     ]
    }
   ],
   "source": [
    "# 행 이름으로 데이터 추출하기\n",
    "print(df.loc[0])"
   ]
  },
  {
   "cell_type": "code",
   "execution_count": 21,
   "metadata": {},
   "outputs": [
    {
     "name": "stdout",
     "output_type": "stream",
     "text": [
      "country      Bangladesh\n",
      "continent          Asia\n",
      "year               1967\n",
      "lifeExp          43.453\n",
      "pop            62821884\n",
      "gdpPercap    721.186086\n",
      "Name: 99, dtype: object\n"
     ]
    }
   ],
   "source": [
    "print(df.loc[99])"
   ]
  },
  {
   "cell_type": "code",
   "execution_count": 22,
   "metadata": {},
   "outputs": [],
   "source": [
    "# -1 의 값은 넣을 수 없음."
   ]
  },
  {
   "cell_type": "code",
   "execution_count": 23,
   "metadata": {},
   "outputs": [
    {
     "name": "stdout",
     "output_type": "stream",
     "text": [
      "country        Zimbabwe\n",
      "continent        Africa\n",
      "year               2007\n",
      "lifeExp          43.487\n",
      "pop            12311143\n",
      "gdpPercap    469.709298\n",
      "Name: 1703, dtype: object\n"
     ]
    }
   ],
   "source": [
    "# 마지막 데이터 추출하기\n",
    "number_of_rows=df.shape[0]\n",
    "las_row_index=number_of_rows -1\n",
    "print(df.loc[las_row_index])"
   ]
  },
  {
   "cell_type": "code",
   "execution_count": 24,
   "metadata": {},
   "outputs": [
    {
     "name": "stdout",
     "output_type": "stream",
     "text": [
      "       country continent  year  lifeExp       pop   gdpPercap\n",
      "1703  Zimbabwe    Africa  2007   43.487  12311143  469.709298\n"
     ]
    }
   ],
   "source": [
    "# tail() 메서드 사용해서 마지막 행 뽑기\n",
    "# 행 개수를 의미하는 매개변수 n에 n=1 해주면됨\n",
    "print(df.tail(n=1))"
   ]
  },
  {
   "cell_type": "code",
   "execution_count": 25,
   "metadata": {},
   "outputs": [],
   "source": [
    "# loc는 Series 객체\n",
    "# tail,head 는 DataFrame 객체"
   ]
  },
  {
   "cell_type": "code",
   "execution_count": 26,
   "metadata": {},
   "outputs": [
    {
     "name": "stdout",
     "output_type": "stream",
     "text": [
      "         country continent  year  lifeExp       pop    gdpPercap\n",
      "0    Afghanistan      Asia  1952   28.801   8425333   779.445314\n",
      "99    Bangladesh      Asia  1967   43.453  62821884   721.186086\n",
      "999     Mongolia      Asia  1967   51.253   1149500  1226.041130\n"
     ]
    }
   ],
   "source": [
    "# 리스트를 사용하여 여러개 추출하기\n",
    "print(df.loc[[0,99,999]])"
   ]
  },
  {
   "cell_type": "code",
   "execution_count": 27,
   "metadata": {},
   "outputs": [
    {
     "name": "stdout",
     "output_type": "stream",
     "text": [
      "country      Afghanistan\n",
      "continent           Asia\n",
      "year                1957\n",
      "lifeExp           30.332\n",
      "pop              9240934\n",
      "gdpPercap      820.85303\n",
      "Name: 1, dtype: object\n"
     ]
    }
   ],
   "source": [
    "# 행 index로 행 데이터 출력하기\n",
    "print(df.iloc[1])\n"
   ]
  },
  {
   "cell_type": "code",
   "execution_count": 28,
   "metadata": {},
   "outputs": [
    {
     "name": "stdout",
     "output_type": "stream",
     "text": [
      "country      Bangladesh\n",
      "continent          Asia\n",
      "year               1967\n",
      "lifeExp          43.453\n",
      "pop            62821884\n",
      "gdpPercap    721.186086\n",
      "Name: 99, dtype: object\n"
     ]
    }
   ],
   "source": [
    "print(df.iloc[99])"
   ]
  },
  {
   "cell_type": "code",
   "execution_count": 29,
   "metadata": {},
   "outputs": [
    {
     "name": "stdout",
     "output_type": "stream",
     "text": [
      "country        Zimbabwe\n",
      "continent        Africa\n",
      "year               2007\n",
      "lifeExp          43.487\n",
      "pop            12311143\n",
      "gdpPercap    469.709298\n",
      "Name: 1703, dtype: object\n"
     ]
    }
   ],
   "source": [
    "print(df.iloc[-1]) # loc 속성에선 -1을 사용 할 수 없지만 iloc 속성에서는 마지막요소로 추출가능\n"
   ]
  },
  {
   "cell_type": "markdown",
   "metadata": {},
   "source": [
    "## loc 와 iloc로 데이터 추출하기\n",
    "- loc와 iloc를 사용하여 특정 행과 열을 선택할 수 있음.\n",
    "- df.loc[[행], [열]] -> 행과 열의 이름을 입력\n",
    "- df.iloc[[행], [열]] -> 행과 열의 인덱스 이름을 입력"
   ]
  },
  {
   "cell_type": "code",
   "execution_count": 30,
   "metadata": {},
   "outputs": [
    {
     "name": "stdout",
     "output_type": "stream",
     "text": [
      "      year       pop\n",
      "0     1952   8425333\n",
      "1     1957   9240934\n",
      "2     1962  10267083\n",
      "3     1967  11537966\n",
      "4     1972  13079460\n",
      "...    ...       ...\n",
      "1699  1987   9216418\n",
      "1700  1992  10704340\n",
      "1701  1997  11404948\n",
      "1702  2002  11926563\n",
      "1703  2007  12311143\n",
      "\n",
      "[1704 rows x 2 columns]\n"
     ]
    }
   ],
   "source": [
    "# 슬라이싱 구문으로 데이터 추출하기\n",
    "subset= df.loc[:,['year', 'pop']]\n",
    "print(subset)"
   ]
  },
  {
   "cell_type": "code",
   "execution_count": 31,
   "metadata": {},
   "outputs": [
    {
     "name": "stdout",
     "output_type": "stream",
     "text": [
      "      year       pop   gdpPercap\n",
      "0     1952   8425333  779.445314\n",
      "1     1957   9240934  820.853030\n",
      "2     1962  10267083  853.100710\n",
      "3     1967  11537966  836.197138\n",
      "4     1972  13079460  739.981106\n",
      "...    ...       ...         ...\n",
      "1699  1987   9216418  706.157306\n",
      "1700  1992  10704340  693.420786\n",
      "1701  1997  11404948  792.449960\n",
      "1702  2002  11926563  672.038623\n",
      "1703  2007  12311143  469.709298\n",
      "\n",
      "[1704 rows x 3 columns]\n"
     ]
    }
   ],
   "source": [
    "# iloc로 3,5번째 와 마지막 열 데이터 추출하기\n",
    "subset= df.iloc[:,[2,4,-1]]\n",
    "print(subset)"
   ]
  },
  {
   "cell_type": "code",
   "execution_count": 32,
   "metadata": {},
   "outputs": [
    {
     "name": "stdout",
     "output_type": "stream",
     "text": [
      "[0, 1, 2, 3, 4]\n"
     ]
    }
   ],
   "source": [
    "# range로 데이터 추출하기\n",
    "small_range=list(range(5)) # range 반환 값을 지정\n",
    "print(small_range)"
   ]
  },
  {
   "cell_type": "code",
   "execution_count": 33,
   "metadata": {},
   "outputs": [
    {
     "name": "stdout",
     "output_type": "stream",
     "text": [
      "          country continent  year  lifeExp       pop\n",
      "0     Afghanistan      Asia  1952   28.801   8425333\n",
      "1     Afghanistan      Asia  1957   30.332   9240934\n",
      "2     Afghanistan      Asia  1962   31.997  10267083\n",
      "3     Afghanistan      Asia  1967   34.020  11537966\n",
      "4     Afghanistan      Asia  1972   36.088  13079460\n",
      "...           ...       ...   ...      ...       ...\n",
      "1699     Zimbabwe    Africa  1987   62.351   9216418\n",
      "1700     Zimbabwe    Africa  1992   60.377  10704340\n",
      "1701     Zimbabwe    Africa  1997   46.809  11404948\n",
      "1702     Zimbabwe    Africa  2002   39.989  11926563\n",
      "1703     Zimbabwe    Africa  2007   43.487  12311143\n",
      "\n",
      "[1704 rows x 5 columns]\n"
     ]
    }
   ],
   "source": [
    "subset= df.iloc[:, small_range]\n",
    "print(subset)"
   ]
  },
  {
   "cell_type": "code",
   "execution_count": 34,
   "metadata": {},
   "outputs": [
    {
     "name": "stdout",
     "output_type": "stream",
     "text": [
      "[3, 4, 5]\n"
     ]
    }
   ],
   "source": [
    "# 3이상 6미만으로 뽑기\n",
    "small_range2=list(range(3,6))\n",
    "print(small_range2)"
   ]
  },
  {
   "cell_type": "code",
   "execution_count": 35,
   "metadata": {},
   "outputs": [
    {
     "name": "stdout",
     "output_type": "stream",
     "text": [
      "      lifeExp       pop   gdpPercap\n",
      "0      28.801   8425333  779.445314\n",
      "1      30.332   9240934  820.853030\n",
      "2      31.997  10267083  853.100710\n",
      "3      34.020  11537966  836.197138\n",
      "4      36.088  13079460  739.981106\n",
      "...       ...       ...         ...\n",
      "1699   62.351   9216418  706.157306\n",
      "1700   60.377  10704340  693.420786\n",
      "1701   46.809  11404948  792.449960\n",
      "1702   39.989  11926563  672.038623\n",
      "1703   43.487  12311143  469.709298\n",
      "\n",
      "[1704 rows x 3 columns]\n"
     ]
    }
   ],
   "source": [
    "subset2=df.iloc[:, small_range2]\n",
    "print(subset2)"
   ]
  },
  {
   "cell_type": "code",
   "execution_count": 36,
   "metadata": {},
   "outputs": [
    {
     "name": "stdout",
     "output_type": "stream",
     "text": [
      "          country  year       pop\n",
      "0     Afghanistan  1952   8425333\n",
      "1     Afghanistan  1957   9240934\n",
      "2     Afghanistan  1962  10267083\n",
      "3     Afghanistan  1967  11537966\n",
      "4     Afghanistan  1972  13079460\n",
      "...           ...   ...       ...\n",
      "1699     Zimbabwe  1987   9216418\n",
      "1700     Zimbabwe  1992  10704340\n",
      "1701     Zimbabwe  1997  11404948\n",
      "1702     Zimbabwe  2002  11926563\n",
      "1703     Zimbabwe  2007  12311143\n",
      "\n",
      "[1704 rows x 3 columns]\n"
     ]
    }
   ],
   "source": [
    "small_range=list(range(0,6,2))\n",
    "subset=df.iloc[:, small_range]\n",
    "print(subset)"
   ]
  },
  {
   "cell_type": "code",
   "execution_count": 37,
   "metadata": {},
   "outputs": [],
   "source": [
    "# range 보단 슬라이싱 구문으로 훨씬 간단하게 작업가능함."
   ]
  },
  {
   "cell_type": "code",
   "execution_count": 38,
   "metadata": {},
   "outputs": [
    {
     "name": "stdout",
     "output_type": "stream",
     "text": [
      "Angola\n"
     ]
    }
   ],
   "source": [
    "# 행과 열 함께 지정하여 추출하기\n",
    "# loc 속성으로 country 열에서 행 이름이 42인 데이터를 추출하기\n",
    "print(df.loc[42,'country'])"
   ]
  },
  {
   "cell_type": "code",
   "execution_count": 39,
   "metadata": {},
   "outputs": [
    {
     "name": "stdout",
     "output_type": "stream",
     "text": [
      "Angola\n"
     ]
    }
   ],
   "source": [
    "# iloc로 추출하기\n",
    "print(df.iloc[42,0])"
   ]
  },
  {
   "cell_type": "code",
   "execution_count": 40,
   "metadata": {},
   "outputs": [
    {
     "name": "stdout",
     "output_type": "stream",
     "text": [
      "         country  lifeExp    gdpPercap\n",
      "0    Afghanistan   28.801   779.445314\n",
      "99    Bangladesh   43.453   721.186086\n",
      "999     Mongolia   51.253  1226.041130\n"
     ]
    }
   ],
   "source": [
    "# 여러 행과 열 지정하여 데이터 추출하기\n",
    "# 첫 번째, 4번째, 6번째 열의 첫 번째, 100번째, 1000번째 행 데이터 추출하기\n",
    "print(df.iloc[[0,99,999], [0,3,5]])"
   ]
  },
  {
   "cell_type": "code",
   "execution_count": 41,
   "metadata": {},
   "outputs": [
    {
     "name": "stdout",
     "output_type": "stream",
     "text": [
      "         country  lifeExp    gdpPercap\n",
      "0    Afghanistan   28.801   779.445314\n",
      "99    Bangladesh   43.453   721.186086\n",
      "999     Mongolia   51.253  1226.041130\n"
     ]
    }
   ],
   "source": [
    "print(df.loc[[0,99,999], ['country', 'lifeExp', 'gdpPercap']])"
   ]
  },
  {
   "cell_type": "code",
   "execution_count": null,
   "metadata": {},
   "outputs": [],
   "source": []
  }
 ],
 "metadata": {
  "kernelspec": {
   "display_name": "PY_39",
   "language": "python",
   "name": "python3"
  },
  "language_info": {
   "codemirror_mode": {
    "name": "ipython",
    "version": 3
   },
   "file_extension": ".py",
   "mimetype": "text/x-python",
   "name": "python",
   "nbconvert_exporter": "python",
   "pygments_lexer": "ipython3",
   "version": "3.9.19"
  }
 },
 "nbformat": 4,
 "nbformat_minor": 2
}

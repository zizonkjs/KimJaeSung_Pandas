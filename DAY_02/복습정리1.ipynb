{
 "cells": [
  {
   "cell_type": "code",
   "execution_count": 136,
   "metadata": {},
   "outputs": [],
   "source": [
    "import pandas as pd"
   ]
  },
  {
   "cell_type": "code",
   "execution_count": 137,
   "metadata": {},
   "outputs": [],
   "source": [
    "# 시리즈 생성series = pd.series(data, index=index)\n",
    "# 인자 \n",
    "# data -> 파이썬 idct, ndarray, 스칼라 값\n",
    "# index -> 라벨 리스트"
   ]
  },
  {
   "cell_type": "code",
   "execution_count": 138,
   "metadata": {},
   "outputs": [],
   "source": [
    "#k:v 구조를 갖는 딕셔너리를 만들고, 변수 dict_data에 저장\n",
    "dict_data = {'a':1, 'b':2, 'c':3}"
   ]
  },
  {
   "cell_type": "code",
   "execution_count": 139,
   "metadata": {},
   "outputs": [],
   "source": [
    "# 판다스 Series() 함수로 딕셔너리(dict_data)를 시리즈로 변환. 변수 sr에 저장\n",
    "sr=pd.Series(dict_data)"
   ]
  },
  {
   "cell_type": "code",
   "execution_count": 140,
   "metadata": {},
   "outputs": [
    {
     "name": "stdout",
     "output_type": "stream",
     "text": [
      "<class 'pandas.core.series.Series'>\n",
      "\n",
      "\n"
     ]
    }
   ],
   "source": [
    "# 변수 sr의 자료형 출력\n",
    "print(type(sr))\n",
    "print('\\n')"
   ]
  },
  {
   "cell_type": "markdown",
   "metadata": {},
   "source": [
    "## 시리즈\n",
    "- 클래스 속성 활용 / 값 출력\n",
    "- 인덱스 RengeIndex 객체 = Series객체.index\n",
    "- 데이터값 Series객체.values"
   ]
  },
  {
   "cell_type": "markdown",
   "metadata": {},
   "source": [
    "## 원소 선택\n",
    "- Data= Series객체[index]\n",
    "- Data= Series객체['인덱스이름']"
   ]
  },
  {
   "cell_type": "code",
   "execution_count": 141,
   "metadata": {},
   "outputs": [
    {
     "name": "stdout",
     "output_type": "stream",
     "text": [
      "0    2019=01-02\n",
      "1          3.14\n",
      "2           ABC\n",
      "3           100\n",
      "4          True\n",
      "dtype: object\n"
     ]
    }
   ],
   "source": [
    "# 리스트를 시리즈로 변환하여 변수 sr에 저장\n",
    "list_data = ['2019=01-02', 3.14, 'ABC', 100, True]\n",
    "sr = pd.Series(list_data)\n",
    "print(sr)"
   ]
  },
  {
   "cell_type": "code",
   "execution_count": 142,
   "metadata": {},
   "outputs": [
    {
     "name": "stdout",
     "output_type": "stream",
     "text": [
      "RangeIndex(start=0, stop=5, step=1)\n",
      "['2019=01-02' 3.14 'ABC' 100 True]\n"
     ]
    }
   ],
   "source": [
    "# 인덱스 배열은 변수 idx에 저장. 데이터 값 배열은 변수 val에 저장\n",
    "idx = sr.index\n",
    "val=sr.values\n",
    "print(idx)\n",
    "print(val)"
   ]
  },
  {
   "cell_type": "code",
   "execution_count": 143,
   "metadata": {},
   "outputs": [
    {
     "name": "stdout",
     "output_type": "stream",
     "text": [
      "이름              정아\n",
      "생년월일    2010-05-01\n",
      "성별               여\n",
      "학생여부          True\n",
      "dtype: object\n"
     ]
    }
   ],
   "source": [
    "# Tuple을 시리즈로 변환\n",
    "tup_data=('정아','2010-05-01', '여', True)\n",
    "sr = pd.Series(tup_data, index=['이름','생년월일', '성별', '학생여부'])\n",
    "print(sr)"
   ]
  },
  {
   "cell_type": "code",
   "execution_count": 144,
   "metadata": {},
   "outputs": [
    {
     "name": "stdout",
     "output_type": "stream",
     "text": [
      "정아\n",
      "정아\n"
     ]
    },
    {
     "name": "stderr",
     "output_type": "stream",
     "text": [
      "C:\\Users\\KDP-26\\AppData\\Local\\Temp\\ipykernel_26884\\3589340035.py:1: FutureWarning: Series.__getitem__ treating keys as positions is deprecated. In a future version, integer keys will always be treated as labels (consistent with DataFrame behavior). To access a value by position, use `ser.iloc[pos]`\n",
      "  print(sr[0])\n"
     ]
    }
   ],
   "source": [
    "print(sr[0])\n",
    "print(sr['이름'])"
   ]
  },
  {
   "cell_type": "code",
   "execution_count": 145,
   "metadata": {},
   "outputs": [
    {
     "name": "stdout",
     "output_type": "stream",
     "text": [
      "생년월일    2010-05-01\n",
      "dtype: object\n",
      "\n",
      "생년월일    2010-05-01\n",
      "성별               여\n",
      "dtype: object\n"
     ]
    }
   ],
   "source": [
    "# 여러개의 원소 선택\n",
    "print(sr[1:2]) # 끝인덱스 미포함\n",
    "print()\n",
    "print(sr['생년월일':'성별']) # 끝인덱스 포함"
   ]
  },
  {
   "cell_type": "markdown",
   "metadata": {},
   "source": [
    "## 데이터프레임(DataFrame)\n",
    "- 행과 열(Series)로 만들어진 2차원 배열 구조\n",
    "- 통계 패키지 R의 데이터프레임에서 유래\n",
    "- 여러개의 시리즈(Series) 묶음\n",
    "- 형식 : 행 인덱스 + 열 벡터"
   ]
  },
  {
   "cell_type": "code",
   "execution_count": 146,
   "metadata": {},
   "outputs": [],
   "source": [
    "# 열이름을 key, 리스트를 value로 갖는 딕셔너리 정의( 2차원 배열 )\n",
    "# dict_data = {'a':1, 'b':2, 'c':3}"
   ]
  },
  {
   "cell_type": "code",
   "execution_count": 147,
   "metadata": {},
   "outputs": [],
   "source": [
    "dict_data = {'c0':[1,2,3], 'c1':[4,5,6], 'c2':[7,8,9], 'c3':[10,11,12], 'c4':[13,14,15]}\n"
   ]
  },
  {
   "cell_type": "code",
   "execution_count": 148,
   "metadata": {},
   "outputs": [],
   "source": [
    "# 판다스 DataFrame() 함수로 딕셔너리를 데이터프레임으로 변환\n",
    "df = pd.DataFrame(dict_data)"
   ]
  },
  {
   "cell_type": "code",
   "execution_count": 149,
   "metadata": {},
   "outputs": [
    {
     "name": "stdout",
     "output_type": "stream",
     "text": [
      "<class 'pandas.core.frame.DataFrame'>\n",
      "   c0  c1  c2  c3  c4\n",
      "0   1   4   7  10  13\n",
      "1   2   5   8  11  14\n",
      "2   3   6   9  12  15\n"
     ]
    }
   ],
   "source": [
    "# df 의 자료형 출력\n",
    "print(type(df))\n",
    "print(df)"
   ]
  },
  {
   "cell_type": "code",
   "execution_count": 150,
   "metadata": {},
   "outputs": [],
   "source": [
    "df2 = pd.DataFrame( [ [15, '남', '덕영중'], [17, '여', '수리중'] ],\n",
    "index=['준서', '예은'],\n",
    " columns=['나이', '성별', '학교'])"
   ]
  },
  {
   "cell_type": "code",
   "execution_count": 151,
   "metadata": {},
   "outputs": [
    {
     "data": {
      "text/plain": [
       "Index(['나이', '성별', '학교'], dtype='object')"
      ]
     },
     "execution_count": 151,
     "metadata": {},
     "output_type": "execute_result"
    }
   ],
   "source": [
    "# 행 인덱스, 열 이름 확인하기\n",
    "df2.index # 행인덱스\n",
    "df2.columns # 열이름"
   ]
  },
  {
   "cell_type": "code",
   "execution_count": 152,
   "metadata": {},
   "outputs": [],
   "source": [
    "# 행 인덱스. 열 이름 변경하기\n",
    "df2.index=['학생1', '학생2']\n",
    "df2.columns=['연령', '남녀', '소속']"
   ]
  },
  {
   "cell_type": "code",
   "execution_count": 153,
   "metadata": {},
   "outputs": [
    {
     "name": "stdout",
     "output_type": "stream",
     "text": [
      "     연령 남녀   소속\n",
      "학생1  15  남  덕영중\n",
      "학생2  17  여  수리중\n",
      "\n",
      "Index(['학생1', '학생2'], dtype='object')\n",
      "\n",
      "Index(['연령', '남녀', '소속'], dtype='object')\n"
     ]
    }
   ],
   "source": [
    "print(df2)\n",
    "print()\n",
    "print(df2.index)\n",
    "print()\n",
    "print(df2.columns)"
   ]
  },
  {
   "cell_type": "code",
   "execution_count": 154,
   "metadata": {},
   "outputs": [],
   "source": [
    "# 열 이름 중, '나이'를 '연령', '성별'을 '남녀', '학교'를 '소속'으로\n",
    "df3=df2.rename(columns={'나이':'연령', '성별':'남녀', '학교':'소속'})"
   ]
  },
  {
   "cell_type": "code",
   "execution_count": 155,
   "metadata": {},
   "outputs": [],
   "source": [
    "df3=df.rename(index={'준서':'학생1', '예은':'학생2'}, inplace=True)"
   ]
  },
  {
   "cell_type": "code",
   "execution_count": 156,
   "metadata": {},
   "outputs": [
    {
     "name": "stdout",
     "output_type": "stream",
     "text": [
      "None\n",
      "     연령 남녀   소속\n",
      "학생1  15  남  덕영중\n",
      "학생2  17  여  수리중\n"
     ]
    }
   ],
   "source": [
    "# df3 출력\n",
    "print(df3)\n",
    "print(df2)"
   ]
  },
  {
   "cell_type": "code",
   "execution_count": 157,
   "metadata": {},
   "outputs": [
    {
     "name": "stdout",
     "output_type": "stream",
     "text": [
      "    수학  영어   음악   체육\n",
      "서준  90  98   85  100\n",
      "우현  80  89   95   90\n",
      "인아  70  95  100   90\n"
     ]
    }
   ],
   "source": [
    "#DataFrame() 함수로 데이터프레임 변환, 변수 df에 저장\n",
    "exam_data={'수학':[90,80,70], '영어':[98,89,95], '음악':[85,95,100], '체육':[100,90,90]}\n",
    "df = pd.DataFrame(exam_data, index=['서준', '우현', '인아'])\n",
    "print(df)"
   ]
  },
  {
   "cell_type": "code",
   "execution_count": 158,
   "metadata": {},
   "outputs": [
    {
     "name": "stdout",
     "output_type": "stream",
     "text": [
      "    수학  영어   음악   체육\n",
      "서준  90  98   85  100\n",
      "인아  70  95  100   90\n"
     ]
    },
    {
     "name": "stderr",
     "output_type": "stream",
     "text": [
      "C:\\Users\\KDP-26\\AppData\\Local\\Temp\\ipykernel_26884\\3244812244.py:3: SettingWithCopyWarning: \n",
      "A value is trying to be set on a copy of a slice from a DataFrame\n",
      "\n",
      "See the caveats in the documentation: https://pandas.pydata.org/pandas-docs/stable/user_guide/indexing.html#returning-a-view-versus-a-copy\n",
      "  df2.drop('우현', inplace=True)\n"
     ]
    }
   ],
   "source": [
    "# 데이터 프레임 df를 복제하여 변수 df2에 저장. df2의 1개 행(row)을 삭제하기\n",
    "df2=df[:]\n",
    "df2.drop('우현', inplace=True)\n",
    "print(df2)"
   ]
  },
  {
   "cell_type": "code",
   "execution_count": 159,
   "metadata": {},
   "outputs": [
    {
     "name": "stdout",
     "output_type": "stream",
     "text": [
      "    수학  영어  음악   체육\n",
      "서준  90  98  85  100\n"
     ]
    },
    {
     "name": "stderr",
     "output_type": "stream",
     "text": [
      "C:\\Users\\KDP-26\\AppData\\Local\\Temp\\ipykernel_26884\\1918901674.py:3: SettingWithCopyWarning: \n",
      "A value is trying to be set on a copy of a slice from a DataFrame\n",
      "\n",
      "See the caveats in the documentation: https://pandas.pydata.org/pandas-docs/stable/user_guide/indexing.html#returning-a-view-versus-a-copy\n",
      "  df3.drop(['우현','인아'], axis=0, inplace=True)\n"
     ]
    }
   ],
   "source": [
    "# 데이터프레임 df를 복제하여 변수 df3에 저장. df3의 2개 행(row)을 삭제\n",
    "df3=df[:]\n",
    "df3.drop(['우현','인아'], axis=0, inplace=True)\n",
    "print(df3)\n"
   ]
  },
  {
   "cell_type": "code",
   "execution_count": 160,
   "metadata": {},
   "outputs": [
    {
     "name": "stdout",
     "output_type": "stream",
     "text": [
      "    수학  영어   음악   체육\n",
      "서준  90  98   85  100\n",
      "우현  80  89   95   90\n",
      "인아  70  95  100   90\n"
     ]
    }
   ],
   "source": [
    "exam_data = {'수학' : [ 90, 80, 70], '영어' : [ 98, 89, 95],\n",
    " '음악' : [ 85, 95, 100], '체육' : [ 100, 90, 90]}\n",
    "df=pd.DataFrame(exam_data, index=['서준','우현','인아'])\n",
    "print(df)"
   ]
  },
  {
   "cell_type": "code",
   "execution_count": 161,
   "metadata": {},
   "outputs": [
    {
     "name": "stdout",
     "output_type": "stream",
     "text": [
      "    영어   음악   체육\n",
      "서준  98   85  100\n",
      "우현  89   95   90\n",
      "인아  95  100   90\n"
     ]
    },
    {
     "name": "stderr",
     "output_type": "stream",
     "text": [
      "C:\\Users\\KDP-26\\AppData\\Local\\Temp\\ipykernel_26884\\4164253903.py:3: SettingWithCopyWarning: \n",
      "A value is trying to be set on a copy of a slice from a DataFrame\n",
      "\n",
      "See the caveats in the documentation: https://pandas.pydata.org/pandas-docs/stable/user_guide/indexing.html#returning-a-view-versus-a-copy\n",
      "  df4.drop('수학', axis=1, inplace=True)\n"
     ]
    }
   ],
   "source": [
    "# 데이터프레임 df를 복제하여 변수 df4에 저장. df4의 1개 열(column)을 삭제\n",
    "df4=df[:]\n",
    "df4.drop('수학', axis=1, inplace=True)\n",
    "print(df4)"
   ]
  },
  {
   "cell_type": "code",
   "execution_count": 162,
   "metadata": {},
   "outputs": [
    {
     "name": "stdout",
     "output_type": "stream",
     "text": [
      "    수학   체육\n",
      "서준  90  100\n",
      "우현  80   90\n",
      "인아  70   90\n"
     ]
    },
    {
     "name": "stderr",
     "output_type": "stream",
     "text": [
      "C:\\Users\\KDP-26\\AppData\\Local\\Temp\\ipykernel_26884\\219155899.py:2: SettingWithCopyWarning: \n",
      "A value is trying to be set on a copy of a slice from a DataFrame\n",
      "\n",
      "See the caveats in the documentation: https://pandas.pydata.org/pandas-docs/stable/user_guide/indexing.html#returning-a-view-versus-a-copy\n",
      "  df5.drop(['영어', '음악'], axis=1, inplace=True)\n"
     ]
    }
   ],
   "source": [
    "df5=df[:]\n",
    "df5.drop(['영어', '음악'], axis=1, inplace=True)\n",
    "print(df5)"
   ]
  },
  {
   "cell_type": "code",
   "execution_count": 163,
   "metadata": {},
   "outputs": [
    {
     "name": "stdout",
     "output_type": "stream",
     "text": [
      "수학     90\n",
      "영어     98\n",
      "음악     85\n",
      "체육    100\n",
      "Name: 서준, dtype: int64\n",
      "수학     90\n",
      "영어     98\n",
      "음악     85\n",
      "체육    100\n",
      "Name: 서준, dtype: int64\n"
     ]
    }
   ],
   "source": [
    "# 행 인덱스를 사용하여 행 1개를 선택하기\n",
    "label1=df.loc['서준'] # loc 인덱스이름 사용\n",
    "position1=df.iloc[0] # iloc 인덱서 활용\n",
    "print(label1)\n",
    "print(position1)"
   ]
  },
  {
   "cell_type": "code",
   "execution_count": 164,
   "metadata": {},
   "outputs": [
    {
     "name": "stdout",
     "output_type": "stream",
     "text": [
      "    수학  영어  음악   체육\n",
      "서준  90  98  85  100\n",
      "우현  80  89  95   90\n",
      "    수학  영어  음악   체육\n",
      "서준  90  98  85  100\n",
      "우현  80  89  95   90\n"
     ]
    }
   ],
   "source": [
    "# 2개 불러오기\n",
    "label2=df.loc[['서준','우현']]\n",
    "position2=df.iloc[[0,1]]\n",
    "print(label2)\n",
    "print(position2)"
   ]
  },
  {
   "cell_type": "code",
   "execution_count": 165,
   "metadata": {},
   "outputs": [
    {
     "name": "stdout",
     "output_type": "stream",
     "text": [
      "    수학  영어  음악   체육\n",
      "서준  90  98  85  100\n",
      "우현  80  89  95   90\n",
      "    수학  영어  음악   체육\n",
      "서준  90  98  85  100\n",
      "우현  80  89  95   90\n"
     ]
    }
   ],
   "source": [
    "# 행 인덱스의 범위를 지정하여 행 선택\n",
    "label3= df.loc['서준':'우현']\n",
    "position3= df.iloc[0:2]\n",
    "print(label3)\n",
    "print(position3)"
   ]
  },
  {
   "cell_type": "code",
   "execution_count": 166,
   "metadata": {},
   "outputs": [
    {
     "name": "stdout",
     "output_type": "stream",
     "text": [
      "서준    90\n",
      "우현    80\n",
      "인아    70\n",
      "Name: 수학, dtype: int64\n",
      "<class 'pandas.core.series.Series'>\n"
     ]
    }
   ],
   "source": [
    "# 수학 점수 데이터만 선택, 변수 math1에 저장\n",
    "math1=df['수학']\n",
    "print(math1)\n",
    "print(type(math1))"
   ]
  },
  {
   "cell_type": "code",
   "execution_count": 167,
   "metadata": {},
   "outputs": [
    {
     "name": "stdout",
     "output_type": "stream",
     "text": [
      "    수학\n",
      "서준  90\n",
      "우현  80\n",
      "인아  70\n",
      "<class 'pandas.core.frame.DataFrame'>\n"
     ]
    }
   ],
   "source": [
    "math2=df[['수학']]\n",
    "print(math2)\n",
    "print(type(math2))"
   ]
  },
  {
   "cell_type": "code",
   "execution_count": 168,
   "metadata": {},
   "outputs": [
    {
     "name": "stdout",
     "output_type": "stream",
     "text": [
      "85\n",
      "85\n"
     ]
    }
   ],
   "source": [
    "# 데이터프레임 df의 특정 원소 1개 선택 ('서준'의 '음악' 점수)\n",
    "a=df.loc['서준','음악']\n",
    "print(a)\n",
    "b=df.iloc[0,2]\n",
    "print(b)"
   ]
  },
  {
   "cell_type": "code",
   "execution_count": 169,
   "metadata": {},
   "outputs": [
    {
     "name": "stdout",
     "output_type": "stream",
     "text": [
      "    음악   체육\n",
      "서준  85  100\n",
      "우현  95   90\n",
      "    음악   체육\n",
      "서준  85  100\n",
      "우현  95   90\n",
      "    음악   체육\n",
      "서준  85  100\n",
      "우현  95   90\n",
      "    음악   체육\n",
      "서준  85  100\n",
      "우현  95   90\n"
     ]
    }
   ],
   "source": [
    "#df의 2개 이상의 행과 열로부터 원소 선택 ('서준', '우현'의 '음악', '체육' 점수)\n",
    "g = df.loc[['서준', '우현'], ['음악', '체육']]\n",
    "print(g)\n",
    "h = df.iloc[[0,1], [2,3]]\n",
    "print(h)\n",
    "i = df.loc['서준':'우현', '음악':'체육']\n",
    "print(i)\n",
    "j=df.iloc[0:2, 2:]\n",
    "print(j)"
   ]
  },
  {
   "cell_type": "code",
   "execution_count": 170,
   "metadata": {},
   "outputs": [
    {
     "name": "stdout",
     "output_type": "stream",
     "text": [
      "    수학  영어   음악   체육\n",
      "서준  90  98   85  100\n",
      "우현  80  89   95   90\n",
      "인아  70  95  100   90\n",
      "3    0   0    0    0\n"
     ]
    }
   ],
   "source": [
    "# 새로운 행(row)을 추가 - 같은 원소 값을 입력\n",
    "df.loc[3]=0\n",
    "print(df)"
   ]
  },
  {
   "cell_type": "code",
   "execution_count": 171,
   "metadata": {},
   "outputs": [
    {
     "name": "stdout",
     "output_type": "stream",
     "text": [
      "    수학  영어   음악   체육\n",
      "서준  90  98   85  100\n",
      "우현  80  89   95   90\n",
      "인아  70  95  100   90\n",
      "3    0   0    0    0\n",
      "동규  90  80   70   60\n"
     ]
    }
   ],
   "source": [
    "# 새로운 행(row)을 추가 - 원소 값 여러 개의 배열을 입력\n",
    "df.loc['동규']=[90, 80, 70, 60]\n",
    "print(df)"
   ]
  },
  {
   "cell_type": "code",
   "execution_count": 172,
   "metadata": {},
   "outputs": [
    {
     "name": "stdout",
     "output_type": "stream",
     "text": [
      "    수학  영어   음악   체육\n",
      "서준  90  98   85  100\n",
      "우현  80  89   95   90\n",
      "인아  70  95  100   90\n",
      "3    0   0    0    0\n",
      "동규  90  80   70   60\n",
      "행5   0   0    0    0\n"
     ]
    }
   ],
   "source": [
    "# 새로운 행(row)을 추가 - 기존 행을 복사\n",
    "df.loc['행5']=df.loc[3]\n",
    "print(df)"
   ]
  },
  {
   "cell_type": "code",
   "execution_count": 179,
   "metadata": {},
   "outputs": [
    {
     "name": "stdout",
     "output_type": "stream",
     "text": [
      "   이름  수학  영어   음악   체육\n",
      "0  서준  90  98   85  100\n",
      "1  우현  80  89   95   90\n",
      "2  인아  70  95  100   90\n"
     ]
    }
   ],
   "source": [
    "exam_data = {'이름' : [ '서준', '우현', '인아'],\n",
    " '수학' : [ 90, 80, 70],\n",
    " '영어' : [ 98, 89, 95],\n",
    " '음악' : [ 85, 95, 100],\n",
    " '체육' : [ 100, 90, 90]}\n",
    "df = pd.DataFrame(exam_data)\n",
    "print(df)"
   ]
  },
  {
   "cell_type": "code",
   "execution_count": 182,
   "metadata": {},
   "outputs": [],
   "source": [
    "# df.set_index('이름', inplace=True)\n",
    "# print(df) 이름이란 열을 새로운 인덱스로 지정해야 되는데 안됩니다."
   ]
  },
  {
   "cell_type": "code",
   "execution_count": 183,
   "metadata": {},
   "outputs": [
    {
     "name": "stdout",
     "output_type": "stream",
     "text": [
      "    수학  영어   음악  체육\n",
      "이름                 \n",
      "서준  90  98   85  80\n",
      "우현  80  89   95  90\n",
      "인아  70  95  100  90\n"
     ]
    },
    {
     "name": "stderr",
     "output_type": "stream",
     "text": [
      "C:\\Users\\KDP-26\\AppData\\Local\\Temp\\ipykernel_26884\\4259096849.py:2: FutureWarning: ChainedAssignmentError: behaviour will change in pandas 3.0!\n",
      "You are setting values through chained assignment. Currently this works in certain cases, but when using Copy-on-Write (which will become the default behaviour in pandas 3.0) this will never work to update the original DataFrame or Series, because the intermediate object on which we are setting values will behave as a copy.\n",
      "A typical example is when you are setting values in a column of a DataFrame, like:\n",
      "\n",
      "df[\"col\"][row_indexer] = value\n",
      "\n",
      "Use `df.loc[row_indexer, \"col\"] = values` instead, to perform the assignment in a single step and ensure this keeps updating the original `df`.\n",
      "\n",
      "See the caveats in the documentation: https://pandas.pydata.org/pandas-docs/stable/user_guide/indexing.html#returning-a-view-versus-a-copy\n",
      "\n",
      "  df.iloc[0][3] = 80\n",
      "C:\\Users\\KDP-26\\AppData\\Local\\Temp\\ipykernel_26884\\4259096849.py:2: FutureWarning: Series.__setitem__ treating keys as positions is deprecated. In a future version, integer keys will always be treated as labels (consistent with DataFrame behavior). To set a value by position, use `ser.iloc[pos] = value`\n",
      "  df.iloc[0][3] = 80\n"
     ]
    }
   ],
   "source": [
    "# 데이터프레임 df의 특정 원소를 변경하는 방법 : 서준의 체육점수 3.0에선 안될거래.\n",
    "df.iloc[0][3] = 80\n",
    "print(df)"
   ]
  },
  {
   "cell_type": "code",
   "execution_count": 184,
   "metadata": {},
   "outputs": [
    {
     "name": "stdout",
     "output_type": "stream",
     "text": [
      "    수학  영어   음악  체육\n",
      "이름                 \n",
      "서준  90  98   50  50\n",
      "우현  80  89   95  90\n",
      "인아  70  95  100  90\n"
     ]
    }
   ],
   "source": [
    "# 원소 여러개 변경하기 : 서준의 음악\n",
    "df.loc['서준',['음악','체육']]=50\n",
    "print(df)"
   ]
  },
  {
   "cell_type": "code",
   "execution_count": 185,
   "metadata": {},
   "outputs": [
    {
     "name": "stdout",
     "output_type": "stream",
     "text": [
      "    수학  영어   음악  체육\n",
      "이름                 \n",
      "서준  90  98  100  50\n",
      "우현  80  89   95  90\n",
      "인아  70  95  100  90\n"
     ]
    },
    {
     "ename": "",
     "evalue": "",
     "output_type": "error",
     "traceback": [
      "\u001b[1;31mThe Kernel crashed while executing code in the current cell or a previous cell. \n",
      "\u001b[1;31mPlease review the code in the cell(s) to identify a possible cause of the failure. \n",
      "\u001b[1;31mClick <a href='https://aka.ms/vscodeJupyterKernelCrash'>here</a> for more info. \n",
      "\u001b[1;31mView Jupyter <a href='command:jupyter.viewOutput'>log</a> for further details."
     ]
    }
   ],
   "source": [
    "df.loc['서준',['음악','체육']]= 100,50\n",
    "print(df)"
   ]
  },
  {
   "cell_type": "code",
   "execution_count": null,
   "metadata": {},
   "outputs": [],
   "source": []
  }
 ],
 "metadata": {
  "kernelspec": {
   "display_name": "PY_39",
   "language": "python",
   "name": "python3"
  },
  "language_info": {
   "codemirror_mode": {
    "name": "ipython",
    "version": 3
   },
   "file_extension": ".py",
   "mimetype": "text/x-python",
   "name": "python",
   "nbconvert_exporter": "python",
   "pygments_lexer": "ipython3",
   "version": "3.9.19"
  }
 },
 "nbformat": 4,
 "nbformat_minor": 2
}

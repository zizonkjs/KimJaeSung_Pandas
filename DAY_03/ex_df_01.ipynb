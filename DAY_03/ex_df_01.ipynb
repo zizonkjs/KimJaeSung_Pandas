{
 "cells": [
  {
   "cell_type": "markdown",
   "metadata": {},
   "source": [
    "## 데이터 활용 방법 - 전치\n",
    "- 행과 열을 서로 바꾸기\n",
    "- 방법\n",
    "    - 1. 메서드 : 변수명.trandspose()\n",
    "    - 2. 속성 : 변수명.T"
   ]
  },
  {
   "cell_type": "code",
   "execution_count": 1,
   "metadata": {},
   "outputs": [],
   "source": [
    "import pandas as pd"
   ]
  },
  {
   "cell_type": "code",
   "execution_count": 2,
   "metadata": {},
   "outputs": [],
   "source": [
    "# 데이터 준비\n",
    "file_name='data.csv'"
   ]
  },
  {
   "cell_type": "code",
   "execution_count": 4,
   "metadata": {},
   "outputs": [],
   "source": [
    "# csv --> DataFrame 형태로 저장해주기\n",
    "\n",
    "csvdf=pd.read_csv(file_name)"
   ]
  },
  {
   "cell_type": "code",
   "execution_count": 8,
   "metadata": {},
   "outputs": [
    {
     "name": "stdout",
     "output_type": "stream",
     "text": [
      "변경전\n",
      "RangeIndex(start=0, stop=5, step=1)\n",
      "Index(['no', 'name ', 'age', 'gneder'], dtype='object')\n",
      "  no name  age gneder\n",
      "0  1  hone  10      F\n",
      "1  2  Park  13      F\n",
      "2  3   Kim  15      M\n",
      "3  4   Yee  18      M\n",
      "4  5  jung  17      F\n",
      "\n",
      "변경gn\n",
      "Index(['no', 'name ', 'age', 'gneder'], dtype='object')\n",
      "RangeIndex(start=0, stop=5, step=1)\n",
      "           0     1    2    3     4\n",
      "no         1     2    3    4     5\n",
      "name    hone  Park  Kim  Yee  jung\n",
      "age       10    13   15   18    17\n",
      "gneder     F     F    M    M     F\n"
     ]
    }
   ],
   "source": [
    "# DataFrame 형태 변경 : 행 ==> 열, 열 ==> 행\n",
    "print(\"변경전\", csvdf.index, csvdf.columns, csvdf, sep='\\n')\n",
    "print()\n",
    "csvdf=csvdf.T\n",
    "print(\"변경gn\", csvdf.index, csvdf.columns, csvdf, sep='\\n')"
   ]
  },
  {
   "cell_type": "code",
   "execution_count": 6,
   "metadata": {},
   "outputs": [
    {
     "data": {
      "text/html": [
       "<div>\n",
       "<style scoped>\n",
       "    .dataframe tbody tr th:only-of-type {\n",
       "        vertical-align: middle;\n",
       "    }\n",
       "\n",
       "    .dataframe tbody tr th {\n",
       "        vertical-align: top;\n",
       "    }\n",
       "\n",
       "    .dataframe thead th {\n",
       "        text-align: right;\n",
       "    }\n",
       "</style>\n",
       "<table border=\"1\" class=\"dataframe\">\n",
       "  <thead>\n",
       "    <tr style=\"text-align: right;\">\n",
       "      <th></th>\n",
       "      <th>0</th>\n",
       "      <th>1</th>\n",
       "      <th>2</th>\n",
       "      <th>3</th>\n",
       "      <th>4</th>\n",
       "    </tr>\n",
       "  </thead>\n",
       "  <tbody>\n",
       "    <tr>\n",
       "      <th>no</th>\n",
       "      <td>1</td>\n",
       "      <td>2</td>\n",
       "      <td>3</td>\n",
       "      <td>4</td>\n",
       "      <td>5</td>\n",
       "    </tr>\n",
       "    <tr>\n",
       "      <th>name</th>\n",
       "      <td>hone</td>\n",
       "      <td>Park</td>\n",
       "      <td>Kim</td>\n",
       "      <td>Yee</td>\n",
       "      <td>jung</td>\n",
       "    </tr>\n",
       "    <tr>\n",
       "      <th>age</th>\n",
       "      <td>10</td>\n",
       "      <td>13</td>\n",
       "      <td>15</td>\n",
       "      <td>18</td>\n",
       "      <td>17</td>\n",
       "    </tr>\n",
       "    <tr>\n",
       "      <th>gneder</th>\n",
       "      <td>F</td>\n",
       "      <td>F</td>\n",
       "      <td>M</td>\n",
       "      <td>M</td>\n",
       "      <td>F</td>\n",
       "    </tr>\n",
       "  </tbody>\n",
       "</table>\n",
       "</div>"
      ],
      "text/plain": [
       "           0     1    2    3     4\n",
       "no         1     2    3    4     5\n",
       "name    hone  Park  Kim  Yee  jung\n",
       "age       10    13   15   18    17\n",
       "gneder     F     F    M    M     F"
      ]
     },
     "execution_count": 6,
     "metadata": {},
     "output_type": "execute_result"
    }
   ],
   "source": [
    "csvdf"
   ]
  },
  {
   "cell_type": "code",
   "execution_count": 9,
   "metadata": {},
   "outputs": [
    {
     "name": "stdout",
     "output_type": "stream",
     "text": [
      "변경전\n",
      "RangeIndex(start=0, stop=5, step=1)\n",
      "Index(['no', 'name ', 'age', 'gneder'], dtype='object')\n",
      "  no name  age gneder\n",
      "0  1  hone  10      F\n",
      "1  2  Park  13      F\n",
      "2  3   Kim  15      M\n",
      "3  4   Yee  18      M\n",
      "4  5  jung  17      F\n"
     ]
    }
   ],
   "source": [
    "# 메서드 사용\n",
    "csvdf=csvdf.transpose()\n",
    "print(\"변경전\", csvdf.index, csvdf.columns, csvdf, sep='\\n')"
   ]
  },
  {
   "cell_type": "code",
   "execution_count": null,
   "metadata": {},
   "outputs": [],
   "source": []
  }
 ],
 "metadata": {
  "kernelspec": {
   "display_name": "PY_39",
   "language": "python",
   "name": "python3"
  },
  "language_info": {
   "codemirror_mode": {
    "name": "ipython",
    "version": 3
   },
   "file_extension": ".py",
   "mimetype": "text/x-python",
   "name": "python",
   "nbconvert_exporter": "python",
   "pygments_lexer": "ipython3",
   "version": "3.9.19"
  }
 },
 "nbformat": 4,
 "nbformat_minor": 2
}

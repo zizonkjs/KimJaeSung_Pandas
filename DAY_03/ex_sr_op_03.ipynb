{
 "cells": [
  {
   "cell_type": "markdown",
   "metadata": {},
   "source": [
    "## [Series 연산 - 2]\n",
    "- 원소값이 비어 있는 경우\n",
    "- 인덱스가 서로다른 Series의 경우\n"
   ]
  },
  {
   "cell_type": "code",
   "execution_count": 44,
   "metadata": {},
   "outputs": [],
   "source": [
    "# 1. 모듈로딩\n",
    "import pandas as pd\n",
    "import math\n",
    "import numpy as np"
   ]
  },
  {
   "cell_type": "code",
   "execution_count": 45,
   "metadata": {},
   "outputs": [
    {
     "data": {
      "text/plain": [
       "(nan, nan)"
      ]
     },
     "execution_count": 45,
     "metadata": {},
     "output_type": "execute_result"
    }
   ],
   "source": [
    "# 빈칸 즉 비어있다는 의미를 나태는 문자가있음. -> pandas에는 없음.\n",
    "# math 모듈과 numpy라는 패키지를 지금 사용.\n",
    "math.nan , np.NaN"
   ]
  },
  {
   "cell_type": "code",
   "execution_count": 46,
   "metadata": {},
   "outputs": [],
   "source": [
    "# 2. 데이터 준비\n",
    "bibibig=[13, 600, np.NaN, 1500]\n",
    "merona=[32, 700, 1200, 1500]"
   ]
  },
  {
   "cell_type": "code",
   "execution_count": 47,
   "metadata": {},
   "outputs": [],
   "source": [
    "# 3. 1차원 리스트를 Sesires로 저장\n",
    "sr1=pd.Series(bibibig)\n",
    "sr2=pd.Series(merona)"
   ]
  },
  {
   "cell_type": "code",
   "execution_count": 48,
   "metadata": {},
   "outputs": [
    {
     "name": "stdout",
     "output_type": "stream",
     "text": [
      "0      13.0\n",
      "1     600.0\n",
      "2       NaN\n",
      "3    1500.0\n",
      "dtype: float64\n",
      "0      32\n",
      "1     700\n",
      "2    1200\n",
      "3    1500\n",
      "dtype: int64\n"
     ]
    }
   ],
   "source": [
    "print(sr1, sr2, sep='\\n')"
   ]
  },
  {
   "cell_type": "code",
   "execution_count": 49,
   "metadata": {},
   "outputs": [
    {
     "data": {
      "text/plain": [
       "0      18.0\n",
       "1     605.0\n",
       "2       NaN\n",
       "3    1505.0\n",
       "dtype: float64"
      ]
     },
     "execution_count": 49,
     "metadata": {},
     "output_type": "execute_result"
    }
   ],
   "source": [
    "# 4-1. 연산 수행 : Series + 숫자\n",
    "# 산술 연산\n",
    "sr1 + 5"
   ]
  },
  {
   "cell_type": "code",
   "execution_count": 50,
   "metadata": {},
   "outputs": [
    {
     "data": {
      "text/plain": [
       "0     True\n",
       "1     True\n",
       "2    False\n",
       "3     True\n",
       "dtype: bool"
      ]
     },
     "execution_count": 50,
     "metadata": {},
     "output_type": "execute_result"
    }
   ],
   "source": [
    "# 비교연산 NaN을 False로 처리해준다.\n",
    "sr1 >= 5"
   ]
  },
  {
   "cell_type": "code",
   "execution_count": 51,
   "metadata": {},
   "outputs": [
    {
     "data": {
      "text/plain": [
       "0        416.0\n",
       "1     420000.0\n",
       "2          NaN\n",
       "3    2250000.0\n",
       "dtype: float64"
      ]
     },
     "execution_count": 51,
     "metadata": {},
     "output_type": "execute_result"
    }
   ],
   "source": [
    "# 4-2. 연산 수행 : Series + Series NaN 있을 시 연산을 안함.\n",
    "# 산술 연산\n",
    "sr1 * sr2"
   ]
  },
  {
   "cell_type": "code",
   "execution_count": 52,
   "metadata": {},
   "outputs": [
    {
     "data": {
      "text/plain": [
       "0     True\n",
       "1     True\n",
       "2    False\n",
       "3    False\n",
       "dtype: bool"
      ]
     },
     "execution_count": 52,
     "metadata": {},
     "output_type": "execute_result"
    }
   ],
   "source": [
    "# 비교연산 NaN을 False로 처리해준다.\n",
    "sr1 != sr2\n",
    "sr1 > sr2\n",
    "sr1 < sr2\n"
   ]
  },
  {
   "cell_type": "code",
   "execution_count": 53,
   "metadata": {},
   "outputs": [
    {
     "data": {
      "text/plain": [
       "0      32\n",
       "2     700\n",
       "3    1200\n",
       "4    1500\n",
       "dtype: int64"
      ]
     },
     "execution_count": 53,
     "metadata": {},
     "output_type": "execute_result"
    }
   ],
   "source": [
    "# 5. 인덱스가 다른 Series 끼리 연산 수행\n",
    "# sr3 생성 : sr2에서 인덱스 변경 [0, 1,2,3] --> [0,2,3,4]\n",
    "sr3=sr2.rename(index={1:2, 2:3, 3:4})\n",
    "sr3"
   ]
  },
  {
   "cell_type": "code",
   "execution_count": 56,
   "metadata": {},
   "outputs": [
    {
     "data": {
      "text/plain": [
       "0      64.0\n",
       "1       NaN\n",
       "2    1900.0\n",
       "3    2700.0\n",
       "4       NaN\n",
       "dtype: float64"
      ]
     },
     "execution_count": 56,
     "metadata": {},
     "output_type": "execute_result"
    }
   ],
   "source": [
    "# 인덱스가 다른 Sereis + Sereis 연산 빈칸 조우시 NaN 출력.\n",
    "sr2 + sr3"
   ]
  },
  {
   "cell_type": "code",
   "execution_count": 62,
   "metadata": {},
   "outputs": [
    {
     "data": {
      "text/plain": [
       "0      32\n",
       "1     700\n",
       "2    1200\n",
       "3    1500\n",
       "dtype: int64"
      ]
     },
     "execution_count": 62,
     "metadata": {},
     "output_type": "execute_result"
    }
   ],
   "source": [
    "# 비교연산\n",
    "# 인덱스 번호가 다른게 있을 경우 Error 발생한다.\n",
    "# 인덱스번호 같게 만들어주고\n",
    "sr3=sr3.reset_index(drop=True)\n",
    "sr3"
   ]
  },
  {
   "cell_type": "code",
   "execution_count": 63,
   "metadata": {},
   "outputs": [
    {
     "data": {
      "text/plain": [
       "0    False\n",
       "1    False\n",
       "2    False\n",
       "3    False\n",
       "dtype: bool"
      ]
     },
     "execution_count": 63,
     "metadata": {},
     "output_type": "execute_result"
    }
   ],
   "source": [
    "sr2> sr3"
   ]
  },
  {
   "cell_type": "code",
   "execution_count": 64,
   "metadata": {},
   "outputs": [
    {
     "data": {
      "text/plain": [
       "0      45.0\n",
       "1    1300.0\n",
       "2    1200.0\n",
       "3    3000.0\n",
       "dtype: float64"
      ]
     },
     "execution_count": 64,
     "metadata": {},
     "output_type": "execute_result"
    }
   ],
   "source": [
    "# 5. NaN에 대한 연산 수행을 못하는 것을 해결하기 위한 메서드\n",
    "# fill_value : NaN에 값을 지정해줌.\n",
    "sr1.add(sr2, fill_value=0.)"
   ]
  },
  {
   "cell_type": "code",
   "execution_count": 65,
   "metadata": {},
   "outputs": [
    {
     "data": {
      "text/plain": [
       "0      32\n",
       "2     700\n",
       "3    1200\n",
       "4    1500\n",
       "dtype: int64"
      ]
     },
     "execution_count": 65,
     "metadata": {},
     "output_type": "execute_result"
    }
   ],
   "source": [
    "# 6. 인덱스가 다른 Seires 연산에서 메서드 사용\n",
    "sr3=sr2.rename(index={1:2, 2:3, 3:4})\n",
    "sr3"
   ]
  },
  {
   "cell_type": "code",
   "execution_count": 66,
   "metadata": {},
   "outputs": [
    {
     "data": {
      "text/plain": [
       "0      64.0\n",
       "1     700.0\n",
       "2    1900.0\n",
       "3    2700.0\n",
       "4    1500.0\n",
       "dtype: float64"
      ]
     },
     "execution_count": 66,
     "metadata": {},
     "output_type": "execute_result"
    }
   ],
   "source": [
    "sr2.add(sr3, fill_value=0.0) "
   ]
  },
  {
   "cell_type": "code",
   "execution_count": null,
   "metadata": {},
   "outputs": [],
   "source": []
  }
 ],
 "metadata": {
  "kernelspec": {
   "display_name": "PY_39",
   "language": "python",
   "name": "python3"
  },
  "language_info": {
   "codemirror_mode": {
    "name": "ipython",
    "version": 3
   },
   "file_extension": ".py",
   "mimetype": "text/x-python",
   "name": "python",
   "nbconvert_exporter": "python",
   "pygments_lexer": "ipython3",
   "version": "3.9.19"
  }
 },
 "nbformat": 4,
 "nbformat_minor": 2
}

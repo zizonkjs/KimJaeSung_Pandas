{
 "cells": [
  {
   "cell_type": "markdown",
   "metadata": {},
   "source": [
    "### Series 데이터 자료형\n",
    "- 판다스에서 한줄 데이터 저장하는 자료형\n",
    "- 구성 : 인덱스+데이터\n"
   ]
  },
  {
   "cell_type": "code",
   "execution_count": 1,
   "metadata": {},
   "outputs": [],
   "source": [
    "#모듈 로딩\n",
    "import pandas as pd"
   ]
  },
  {
   "cell_type": "code",
   "execution_count": 2,
   "metadata": {},
   "outputs": [],
   "source": [
    "# 데이터준비\n",
    "jumsu={'국어':98, '영어':100, '체육':100, '과학':89}\n",
    "# 시리즈 객체 생성"
   ]
  },
  {
   "cell_type": "code",
   "execution_count": 3,
   "metadata": {},
   "outputs": [],
   "source": [
    "jumsusr=pd.Series(jumsu)"
   ]
  },
  {
   "cell_type": "code",
   "execution_count": 4,
   "metadata": {},
   "outputs": [
    {
     "name": "stdout",
     "output_type": "stream",
     "text": [
      "Index(['국어', '영어', '체육', '과학'], dtype='object')\n",
      "[ 98 100 100  89]\n",
      "int64\n",
      "1\n"
     ]
    }
   ],
   "source": [
    "# 시리즈 객체 속성 출력 -> index, values, dtype, ndim\n",
    "print(jumsusr.index)\n",
    "print(jumsusr.values)\n",
    "print(jumsusr.dtype)\n",
    "print(jumsusr.ndim)"
   ]
  },
  {
   "cell_type": "code",
   "execution_count": 8,
   "metadata": {},
   "outputs": [
    {
     "data": {
      "text/plain": [
       "98"
      ]
     },
     "execution_count": 8,
     "metadata": {},
     "output_type": "execute_result"
    }
   ],
   "source": [
    "# 원소 읽기 ------------------------------\n",
    "# 1개 원소 읽기\n",
    "jumsusr['국어']"
   ]
  },
  {
   "cell_type": "code",
   "execution_count": 7,
   "metadata": {},
   "outputs": [
    {
     "data": {
      "text/plain": [
       "국어    98\n",
       "과학    89\n",
       "dtype: int64"
      ]
     },
     "execution_count": 7,
     "metadata": {},
     "output_type": "execute_result"
    }
   ],
   "source": [
    "# 2개 원소 읽기 국어, 과학 점수\n",
    "jumsusr[['국어', '과학']]"
   ]
  },
  {
   "cell_type": "code",
   "execution_count": 11,
   "metadata": {},
   "outputs": [
    {
     "data": {
      "text/plain": [
       "국어     98\n",
       "영어    100\n",
       "체육    100\n",
       "dtype: int64"
      ]
     },
     "execution_count": 11,
     "metadata": {},
     "output_type": "execute_result"
    }
   ],
   "source": [
    "# 국어, 영어, 체육 점수 읽기\n",
    "# 정수 인덱스 경우 -> [시작:끝+1]\n",
    "# 글자인덱스는 적용이 안됨. [시작:끝]\n",
    "jumsusr['국어':'체육']"
   ]
  },
  {
   "cell_type": "code",
   "execution_count": 12,
   "metadata": {},
   "outputs": [
    {
     "data": {
      "text/plain": [
       "국어     98\n",
       "체육    100\n",
       "dtype: int64"
      ]
     },
     "execution_count": 12,
     "metadata": {},
     "output_type": "execute_result"
    }
   ],
   "source": [
    "# 국어, 체육 점수 가지고오기\n",
    "jumsusr['국어':'체육':2]"
   ]
  },
  {
   "cell_type": "markdown",
   "metadata": {},
   "source": [
    "- [인덱스 & 인덱스레이블/네임]\n",
    "- 원소/요소를 식별하기 위한 속성"
   ]
  },
  {
   "cell_type": "code",
   "execution_count": 13,
   "metadata": {},
   "outputs": [
    {
     "data": {
      "text/plain": [
       "Index(['국어', '영어', '체육', '과학'], dtype='object')"
      ]
     },
     "execution_count": 13,
     "metadata": {},
     "output_type": "execute_result"
    }
   ],
   "source": [
    "# 인덱스 속성 -> 변수명.index\n",
    "jumsusr.index"
   ]
  },
  {
   "cell_type": "code",
   "execution_count": 17,
   "metadata": {},
   "outputs": [
    {
     "name": "stdout",
     "output_type": "stream",
     "text": [
      "98 98\n",
      "100 100\n"
     ]
    }
   ],
   "source": [
    "print(jumsusr['국어'], jumsusr.iloc[0])\n",
    "print(jumsusr['체육'], jumsusr.iloc[2])"
   ]
  },
  {
   "cell_type": "code",
   "execution_count": null,
   "metadata": {},
   "outputs": [],
   "source": []
  }
 ],
 "metadata": {
  "kernelspec": {
   "display_name": "PY_39",
   "language": "python",
   "name": "python3"
  },
  "language_info": {
   "codemirror_mode": {
    "name": "ipython",
    "version": 3
   },
   "file_extension": ".py",
   "mimetype": "text/x-python",
   "name": "python",
   "nbconvert_exporter": "python",
   "pygments_lexer": "ipython3",
   "version": "3.9.19"
  }
 },
 "nbformat": 4,
 "nbformat_minor": 2
}

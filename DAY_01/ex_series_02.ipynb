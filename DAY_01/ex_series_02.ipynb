{
 "cells": [
  {
   "cell_type": "markdown",
   "metadata": {},
   "source": [
    "### Series 데이터 자료형\n",
    "- 판다스에서 1줄의 데이터를 저장하는 자료형/데이터 타입\n",
    "- 형식 : pandas.Series()\n",
    "- 구성 : Index+Data"
   ]
  },
  {
   "cell_type": "code",
   "execution_count": 1,
   "metadata": {},
   "outputs": [],
   "source": [
    "# 모듈 로딩 \n",
    "import pandas as pd"
   ]
  },
  {
   "cell_type": "code",
   "execution_count": 2,
   "metadata": {},
   "outputs": [],
   "source": [
    "# 데이터준비\n",
    "data1=[\"A\",\"B\",\"C\"]\n",
    "data2={'name':'Hong', 'age':10}"
   ]
  },
  {
   "cell_type": "code",
   "execution_count": 3,
   "metadata": {},
   "outputs": [],
   "source": [
    "# 시리즈객체생성\n",
    "sr1=pd.Series(data1)\n",
    "sr2=pd.Series(data2)"
   ]
  },
  {
   "cell_type": "code",
   "execution_count": 4,
   "metadata": {},
   "outputs": [
    {
     "data": {
      "text/plain": [
       "0    A\n",
       "1    B\n",
       "2    C\n",
       "dtype: object"
      ]
     },
     "execution_count": 4,
     "metadata": {},
     "output_type": "execute_result"
    }
   ],
   "source": [
    "# 생성된 데이터 확인\n",
    "sr1"
   ]
  },
  {
   "cell_type": "code",
   "execution_count": 5,
   "metadata": {},
   "outputs": [
    {
     "data": {
      "text/plain": [
       "name    Hong\n",
       "age       10\n",
       "dtype: object"
      ]
     },
     "execution_count": 5,
     "metadata": {},
     "output_type": "execute_result"
    }
   ],
   "source": [
    "sr2"
   ]
  },
  {
   "cell_type": "code",
   "execution_count": 6,
   "metadata": {},
   "outputs": [
    {
     "name": "stdout",
     "output_type": "stream",
     "text": [
      "Index : RangeIndex(start=0, stop=3, step=1)\n",
      "Index : ['A' 'B' 'C']\n",
      "dtype : object\n",
      "ndim : 1\n"
     ]
    }
   ],
   "source": [
    "## 생성된 시리즈 객체 속성을 확인\n",
    "print(f\"Index : {sr1.index}\")\n",
    "print(f\"Index : {sr1.values}\")\n",
    "print(f\"dtype : {sr1.dtype}\")\n",
    "print(f\"ndim : {sr1.ndim}\")"
   ]
  },
  {
   "cell_type": "code",
   "execution_count": 7,
   "metadata": {},
   "outputs": [
    {
     "name": "stdout",
     "output_type": "stream",
     "text": [
      "Index : Index(['name', 'age'], dtype='object')\n",
      "Index : ['Hong' 10]\n",
      "dtype : object\n",
      "ndim : 1\n"
     ]
    }
   ],
   "source": [
    "## 딕셔너리로 생성된 시리즈 객체 속성을 확인\n",
    "print(f\"Index : {sr2.index}\")\n",
    "print(f\"Index : {sr2.values}\")\n",
    "print(f\"dtype : {sr2.dtype}\") # 타입정보\n",
    "print(f\"ndim : {sr2.ndim}\") # 차원정보"
   ]
  },
  {
   "cell_type": "code",
   "execution_count": 8,
   "metadata": {},
   "outputs": [
    {
     "name": "stdout",
     "output_type": "stream",
     "text": [
      "A B C\n"
     ]
    }
   ],
   "source": [
    "# 시리즈 객체의 원소/요소 읽기 --> 변수명[인덱스]\n",
    "# sr1 객체의 원소 읽기\n",
    "print(sr1[0], sr1[1], sr1[2])"
   ]
  },
  {
   "cell_type": "code",
   "execution_count": 9,
   "metadata": {},
   "outputs": [],
   "source": [
    "# 음수인덱스\n",
    "# sr1[-1] 사용시 에러발생. 안됨"
   ]
  },
  {
   "cell_type": "code",
   "execution_count": 10,
   "metadata": {},
   "outputs": [
    {
     "name": "stdout",
     "output_type": "stream",
     "text": [
      "Hong 10\n"
     ]
    }
   ],
   "source": [
    "# sr2 객체 원소 읽기\n",
    "print(sr2['name'], sr2['age'])"
   ]
  },
  {
   "cell_type": "code",
   "execution_count": 11,
   "metadata": {},
   "outputs": [
    {
     "name": "stdout",
     "output_type": "stream",
     "text": [
      "A B\n",
      "<class 'str'> <class 'str'>\n",
      "0    A\n",
      "2    C\n",
      "dtype: object\n",
      "<class 'pandas.core.series.Series'>\n"
     ]
    }
   ],
   "source": [
    "# sr1 객체에서 2개의 원소 읽기\n",
    "# 0번 원소와 2번 원소 읽기\n",
    "print(sr1[0], sr1[1]) # 1개씩 따로따로\n",
    "print(type(sr1[0],), type(sr1[2]))\n",
    "print(sr1[[0,2]]) # 2개씩 한거번에 가져오기\n",
    "# 2개 이상이 되면 시리즈로 가지고 옴.\n",
    "print(type(sr1[[0,2]]))\n"
   ]
  },
  {
   "cell_type": "code",
   "execution_count": 12,
   "metadata": {},
   "outputs": [
    {
     "data": {
      "text/plain": [
       "0    A\n",
       "dtype: object"
      ]
     },
     "execution_count": 12,
     "metadata": {},
     "output_type": "execute_result"
    }
   ],
   "source": [
    "# 시리즈 원소의 객체를 슬라이싱으로 읽어보기 -> 변수명[시작:끝+1]\n",
    "sr1[0:2:2]"
   ]
  },
  {
   "cell_type": "code",
   "execution_count": 13,
   "metadata": {},
   "outputs": [
    {
     "data": {
      "text/plain": [
       "0    A\n",
       "1    B\n",
       "dtype: object"
      ]
     },
     "execution_count": 13,
     "metadata": {},
     "output_type": "execute_result"
    }
   ],
   "source": [
    "sr1[:2] # 처음부터 ~ 1번원소까지"
   ]
  },
  {
   "cell_type": "code",
   "execution_count": 14,
   "metadata": {},
   "outputs": [
    {
     "data": {
      "text/plain": [
       "0    A\n",
       "1    B\n",
       "2    C\n",
       "dtype: object"
      ]
     },
     "execution_count": 14,
     "metadata": {},
     "output_type": "execute_result"
    }
   ],
   "source": [
    "sr1[:] # 처음부터 끝까지"
   ]
  },
  {
   "cell_type": "code",
   "execution_count": null,
   "metadata": {},
   "outputs": [],
   "source": []
  }
 ],
 "metadata": {
  "kernelspec": {
   "display_name": "PY_39",
   "language": "python",
   "name": "python3"
  },
  "language_info": {
   "codemirror_mode": {
    "name": "ipython",
    "version": 3
   },
   "file_extension": ".py",
   "mimetype": "text/x-python",
   "name": "python",
   "nbconvert_exporter": "python",
   "pygments_lexer": "ipython3",
   "version": "3.9.19"
  }
 },
 "nbformat": 4,
 "nbformat_minor": 2
}

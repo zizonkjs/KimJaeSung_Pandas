{
 "cells": [
  {
   "cell_type": "markdown",
   "metadata": {},
   "source": [
    "#### [과제1] 타이타닉\n",
    "    - 생낮낮중 성별 비율 시각화\n",
    "    - 나이별 생존자의 성별비율 비교 시각화\n",
    "    - 하나의 Figure에 모두표시"
   ]
  },
  {
   "cell_type": "code",
   "execution_count": 128,
   "metadata": {},
   "outputs": [],
   "source": [
    "import pandas as pd\n",
    "from matplotlib import pyplot as plt \n",
    "from Utils import def_util as util"
   ]
  },
  {
   "cell_type": "code",
   "execution_count": 129,
   "metadata": {},
   "outputs": [],
   "source": [
    "util.font_add('malgun')"
   ]
  },
  {
   "cell_type": "code",
   "execution_count": 130,
   "metadata": {},
   "outputs": [],
   "source": [
    "filename = r'DATA\\titanic.csv'"
   ]
  },
  {
   "cell_type": "code",
   "execution_count": 131,
   "metadata": {},
   "outputs": [
    {
     "name": "stdout",
     "output_type": "stream",
     "text": [
      "<class 'pandas.core.frame.DataFrame'>\n",
      "RangeIndex: 891 entries, 0 to 890\n",
      "Data columns (total 15 columns):\n",
      " #   Column       Non-Null Count  Dtype  \n",
      "---  ------       --------------  -----  \n",
      " 0   survived     891 non-null    int64  \n",
      " 1   pclass       891 non-null    int64  \n",
      " 2   sex          891 non-null    object \n",
      " 3   age          714 non-null    float64\n",
      " 4   sibsp        891 non-null    int64  \n",
      " 5   parch        891 non-null    int64  \n",
      " 6   fare         891 non-null    float64\n",
      " 7   embarked     889 non-null    object \n",
      " 8   class        891 non-null    object \n",
      " 9   who          891 non-null    object \n",
      " 10  adult_male   891 non-null    bool   \n",
      " 11  deck         203 non-null    object \n",
      " 12  embark_town  889 non-null    object \n",
      " 13  alive        891 non-null    object \n",
      " 14  alone        891 non-null    bool   \n",
      "dtypes: bool(2), float64(2), int64(4), object(7)\n",
      "memory usage: 92.4+ KB\n"
     ]
    }
   ],
   "source": [
    "titanicFD = pd.read_csv(filename)\n",
    "titanicFD.info()"
   ]
  },
  {
   "cell_type": "code",
   "execution_count": 132,
   "metadata": {},
   "outputs": [],
   "source": [
    "titanicSexSurvivedFD = titanicFD[['sex','survived','age']]\n",
    "titanicSexSurvivedFD.isna().sum()\n",
    "titanicSexSurvivedFD = titanicSexSurvivedFD.dropna()"
   ]
  },
  {
   "cell_type": "code",
   "execution_count": 133,
   "metadata": {},
   "outputs": [],
   "source": [
    "titanicSexSurvivedFD['age'] = titanicSexSurvivedFD['age'].astype('int64')"
   ]
  },
  {
   "cell_type": "code",
   "execution_count": 134,
   "metadata": {},
   "outputs": [],
   "source": [
    "koreanS = {'male':'남','female':'여'}\n",
    "titanicSexSurvivedFD['age'] = (titanicSexSurvivedFD['age'] // 10) * 10\n",
    "titanicSexSurvivedFD['sex'] = titanicSexSurvivedFD['sex'].str.replace('female','여')\n",
    "titanicSexSurvivedFD['sex'] = titanicSexSurvivedFD['sex'].str.replace('male','남')"
   ]
  },
  {
   "cell_type": "code",
   "execution_count": 135,
   "metadata": {},
   "outputs": [],
   "source": [
    "titanicSexSurvivedFD = titanicSexSurvivedFD.set_index(['sex','age'])"
   ]
  },
  {
   "cell_type": "code",
   "execution_count": 136,
   "metadata": {},
   "outputs": [
    {
     "data": {
      "text/plain": [
       "MultiIndex([('남', 20),\n",
       "            ('여', 30),\n",
       "            ('여', 20),\n",
       "            ('여', 30),\n",
       "            ('남', 30),\n",
       "            ('남', 50),\n",
       "            ('남',  0),\n",
       "            ('여', 20),\n",
       "            ('여', 10),\n",
       "            ('여',  0),\n",
       "            ...\n",
       "            ('여', 20),\n",
       "            ('남', 30),\n",
       "            ('여', 20),\n",
       "            ('남', 20),\n",
       "            ('남', 20),\n",
       "            ('여', 30),\n",
       "            ('남', 20),\n",
       "            ('여', 10),\n",
       "            ('남', 20),\n",
       "            ('남', 30)],\n",
       "           names=['sex', 'age'], length=714)"
      ]
     },
     "execution_count": 136,
     "metadata": {},
     "output_type": "execute_result"
    }
   ],
   "source": [
    "titanicSexSurvivedFD.index"
   ]
  },
  {
   "cell_type": "code",
   "execution_count": 137,
   "metadata": {},
   "outputs": [
    {
     "data": {
      "text/html": [
       "<div>\n",
       "<style scoped>\n",
       "    .dataframe tbody tr th:only-of-type {\n",
       "        vertical-align: middle;\n",
       "    }\n",
       "\n",
       "    .dataframe tbody tr th {\n",
       "        vertical-align: top;\n",
       "    }\n",
       "\n",
       "    .dataframe thead th {\n",
       "        text-align: right;\n",
       "    }\n",
       "</style>\n",
       "<table border=\"1\" class=\"dataframe\">\n",
       "  <thead>\n",
       "    <tr style=\"text-align: right;\">\n",
       "      <th></th>\n",
       "      <th></th>\n",
       "      <th>survived</th>\n",
       "    </tr>\n",
       "    <tr>\n",
       "      <th>sex</th>\n",
       "      <th>age</th>\n",
       "      <th></th>\n",
       "    </tr>\n",
       "  </thead>\n",
       "  <tbody>\n",
       "    <tr>\n",
       "      <th rowspan=\"9\" valign=\"top\">남</th>\n",
       "      <th>0</th>\n",
       "      <td>19</td>\n",
       "    </tr>\n",
       "    <tr>\n",
       "      <th>10</th>\n",
       "      <td>7</td>\n",
       "    </tr>\n",
       "    <tr>\n",
       "      <th>20</th>\n",
       "      <td>25</td>\n",
       "    </tr>\n",
       "    <tr>\n",
       "      <th>30</th>\n",
       "      <td>23</td>\n",
       "    </tr>\n",
       "    <tr>\n",
       "      <th>40</th>\n",
       "      <td>12</td>\n",
       "    </tr>\n",
       "    <tr>\n",
       "      <th>50</th>\n",
       "      <td>4</td>\n",
       "    </tr>\n",
       "    <tr>\n",
       "      <th>60</th>\n",
       "      <td>2</td>\n",
       "    </tr>\n",
       "    <tr>\n",
       "      <th>70</th>\n",
       "      <td>0</td>\n",
       "    </tr>\n",
       "    <tr>\n",
       "      <th>80</th>\n",
       "      <td>1</td>\n",
       "    </tr>\n",
       "    <tr>\n",
       "      <th rowspan=\"7\" valign=\"top\">여</th>\n",
       "      <th>0</th>\n",
       "      <td>19</td>\n",
       "    </tr>\n",
       "    <tr>\n",
       "      <th>10</th>\n",
       "      <td>34</td>\n",
       "    </tr>\n",
       "    <tr>\n",
       "      <th>20</th>\n",
       "      <td>52</td>\n",
       "    </tr>\n",
       "    <tr>\n",
       "      <th>30</th>\n",
       "      <td>50</td>\n",
       "    </tr>\n",
       "    <tr>\n",
       "      <th>40</th>\n",
       "      <td>22</td>\n",
       "    </tr>\n",
       "    <tr>\n",
       "      <th>50</th>\n",
       "      <td>16</td>\n",
       "    </tr>\n",
       "    <tr>\n",
       "      <th>60</th>\n",
       "      <td>4</td>\n",
       "    </tr>\n",
       "  </tbody>\n",
       "</table>\n",
       "</div>"
      ],
      "text/plain": [
       "         survived\n",
       "sex age          \n",
       "남   0          19\n",
       "    10          7\n",
       "    20         25\n",
       "    30         23\n",
       "    40         12\n",
       "    50          4\n",
       "    60          2\n",
       "    70          0\n",
       "    80          1\n",
       "여   0          19\n",
       "    10         34\n",
       "    20         52\n",
       "    30         50\n",
       "    40         22\n",
       "    50         16\n",
       "    60          4"
      ]
     },
     "execution_count": 137,
     "metadata": {},
     "output_type": "execute_result"
    }
   ],
   "source": [
    "titanicGruopFD = titanicSexSurvivedFD.groupby(['sex','age']).sum()\n",
    "titanicGruopFD"
   ]
  },
  {
   "cell_type": "code",
   "execution_count": 138,
   "metadata": {},
   "outputs": [
    {
     "data": {
      "image/png": "[encoded data removed]",
      "text/plain": [
       "<Figure size 2000x800 with 1 Axes>"
      ]
     },
     "metadata": {},
     "output_type": "display_data"
    }
   ],
   "source": [
    "plt.figure(figsize=(20,8))\n",
    "\n",
    "for age in titanicGruopFD.loc['남'].index:\n",
    "    plt.bar(f'{age}대 남', height = titanicGruopFD.loc[('남',age)], color='blue')\n",
    "    if ('여',age) in titanicGruopFD.index:\n",
    "        plt.bar(f'{age}대 여', height = titanicGruopFD.loc[('여',age)], color='red')"
   ]
  },
  {
   "cell_type": "markdown",
   "metadata": {},
   "source": [
    "#### [과제2] 시도별 전출입 인구수\n",
    "    - 1970 ~ 2017년 이동 인구수\n",
    "    - 대구 ===> 타지역으로 이동 인구수 분석 및 시각화 [지역, 인구수]\n",
    "    - 전국으로 봤을 때 가장 많이 발생한 지역 [지역, 인구수]"
   ]
  },
  {
   "cell_type": "code",
   "execution_count": 139,
   "metadata": {},
   "outputs": [],
   "source": [
    "filename = r'DATA\\시도별 전출입 인구수.xlsx'"
   ]
  },
  {
   "cell_type": "code",
   "execution_count": 140,
   "metadata": {},
   "outputs": [
    {
     "name": "stdout",
     "output_type": "stream",
     "text": [
      "<class 'pandas.core.frame.DataFrame'>\n",
      "RangeIndex: 325 entries, 0 to 324\n",
      "Data columns (total 50 columns):\n",
      " #   Column  Non-Null Count  Dtype \n",
      "---  ------  --------------  ----- \n",
      " 0   전출지별    18 non-null     object\n",
      " 1   전입지별    324 non-null    object\n",
      " 2   1970    325 non-null    object\n",
      " 3   1971    325 non-null    object\n",
      " 4   1972    325 non-null    object\n",
      " 5   1973    325 non-null    object\n",
      " 6   1974    325 non-null    object\n",
      " 7   1975    325 non-null    object\n",
      " 8   1976    325 non-null    object\n",
      " 9   1977    325 non-null    object\n",
      " 10  1978    325 non-null    object\n",
      " 11  1979    325 non-null    object\n",
      " 12  1980    325 non-null    object\n",
      " 13  1981    325 non-null    object\n",
      " 14  1982    325 non-null    object\n",
      " 15  1983    325 non-null    object\n",
      " 16  1984    322 non-null    object\n",
      " 17  1985    322 non-null    object\n",
      " 18  1986    322 non-null    object\n",
      " 19  1987    325 non-null    object\n",
      " 20  1988    325 non-null    object\n",
      " 21  1989    325 non-null    object\n",
      " 22  1990    325 non-null    object\n",
      " 23  1991    325 non-null    object\n",
      " 24  1992    325 non-null    object\n",
      " 25  1993    325 non-null    object\n",
      " 26  1994    325 non-null    object\n",
      " 27  1995    325 non-null    object\n",
      " 28  1996    325 non-null    object\n",
      " 29  1997    325 non-null    object\n",
      " 30  1998    325 non-null    object\n",
      " 31  1999    325 non-null    object\n",
      " 32  2000    325 non-null    object\n",
      " 33  2001    325 non-null    object\n",
      " 34  2002    325 non-null    object\n",
      " 35  2003    325 non-null    object\n",
      " 36  2004    325 non-null    object\n",
      " 37  2005    325 non-null    object\n",
      " 38  2006    325 non-null    object\n",
      " 39  2007    325 non-null    object\n",
      " 40  2008    325 non-null    object\n",
      " 41  2009    325 non-null    object\n",
      " 42  2010    325 non-null    object\n",
      " 43  2011    325 non-null    object\n",
      " 44  2012    325 non-null    object\n",
      " 45  2013    325 non-null    object\n",
      " 46  2014    325 non-null    object\n",
      " 47  2015    325 non-null    object\n",
      " 48  2016    325 non-null    object\n",
      " 49  2017    325 non-null    object\n",
      "dtypes: object(50)\n",
      "memory usage: 127.1+ KB\n"
     ]
    }
   ],
   "source": [
    "cityFD = pd.read_excel(filename)\n",
    "cityFD.info()"
   ]
  },
  {
   "cell_type": "code",
   "execution_count": 142,
   "metadata": {},
   "outputs": [
    {
     "data": {
      "text/html": [
       "<div>\n",
       "<style scoped>\n",
       "    .dataframe tbody tr th:only-of-type {\n",
       "        vertical-align: middle;\n",
       "    }\n",
       "\n",
       "    .dataframe tbody tr th {\n",
       "        vertical-align: top;\n",
       "    }\n",
       "\n",
       "    .dataframe thead th {\n",
       "        text-align: right;\n",
       "    }\n",
       "</style>\n",
       "<table border=\"1\" class=\"dataframe\">\n",
       "  <thead>\n",
       "    <tr style=\"text-align: right;\">\n",
       "      <th></th>\n",
       "      <th>전출지별</th>\n",
       "      <th>전입지별</th>\n",
       "      <th>1970</th>\n",
       "      <th>1971</th>\n",
       "      <th>1972</th>\n",
       "      <th>1973</th>\n",
       "      <th>1974</th>\n",
       "      <th>1975</th>\n",
       "      <th>1976</th>\n",
       "      <th>1977</th>\n",
       "      <th>...</th>\n",
       "      <th>2008</th>\n",
       "      <th>2009</th>\n",
       "      <th>2010</th>\n",
       "      <th>2011</th>\n",
       "      <th>2012</th>\n",
       "      <th>2013</th>\n",
       "      <th>2014</th>\n",
       "      <th>2015</th>\n",
       "      <th>2016</th>\n",
       "      <th>2017</th>\n",
       "    </tr>\n",
       "  </thead>\n",
       "  <tbody>\n",
       "    <tr>\n",
       "      <th>0</th>\n",
       "      <td>NaN</td>\n",
       "      <td>NaN</td>\n",
       "      <td>이동자수 (명)</td>\n",
       "      <td>이동자수 (명)</td>\n",
       "      <td>이동자수 (명)</td>\n",
       "      <td>이동자수 (명)</td>\n",
       "      <td>이동자수 (명)</td>\n",
       "      <td>이동자수 (명)</td>\n",
       "      <td>이동자수 (명)</td>\n",
       "      <td>이동자수 (명)</td>\n",
       "      <td>...</td>\n",
       "      <td>이동자수 (명)</td>\n",
       "      <td>이동자수 (명)</td>\n",
       "      <td>이동자수 (명)</td>\n",
       "      <td>이동자수 (명)</td>\n",
       "      <td>이동자수 (명)</td>\n",
       "      <td>이동자수 (명)</td>\n",
       "      <td>이동자수 (명)</td>\n",
       "      <td>이동자수 (명)</td>\n",
       "      <td>이동자수 (명)</td>\n",
       "      <td>이동자수 (명)</td>\n",
       "    </tr>\n",
       "    <tr>\n",
       "      <th>1</th>\n",
       "      <td>전국</td>\n",
       "      <td>전국</td>\n",
       "      <td>4046536</td>\n",
       "      <td>4210164</td>\n",
       "      <td>3687938</td>\n",
       "      <td>4860418</td>\n",
       "      <td>5297969</td>\n",
       "      <td>9011440</td>\n",
       "      <td>6773250</td>\n",
       "      <td>7397623</td>\n",
       "      <td>...</td>\n",
       "      <td>8808256</td>\n",
       "      <td>8487275</td>\n",
       "      <td>8226594</td>\n",
       "      <td>8127195</td>\n",
       "      <td>7506691</td>\n",
       "      <td>7411784</td>\n",
       "      <td>7629098</td>\n",
       "      <td>7755286</td>\n",
       "      <td>7378430</td>\n",
       "      <td>7154226</td>\n",
       "    </tr>\n",
       "    <tr>\n",
       "      <th>2</th>\n",
       "      <td>NaN</td>\n",
       "      <td>서울특별시</td>\n",
       "      <td>1742813</td>\n",
       "      <td>1671705</td>\n",
       "      <td>1349333</td>\n",
       "      <td>1831858</td>\n",
       "      <td>2050392</td>\n",
       "      <td>3396662</td>\n",
       "      <td>2756510</td>\n",
       "      <td>2893403</td>\n",
       "      <td>...</td>\n",
       "      <td>2025358</td>\n",
       "      <td>1873188</td>\n",
       "      <td>1733015</td>\n",
       "      <td>1721748</td>\n",
       "      <td>1555281</td>\n",
       "      <td>1520090</td>\n",
       "      <td>1573594</td>\n",
       "      <td>1589431</td>\n",
       "      <td>1515602</td>\n",
       "      <td>1472937</td>\n",
       "    </tr>\n",
       "    <tr>\n",
       "      <th>3</th>\n",
       "      <td>NaN</td>\n",
       "      <td>부산광역시</td>\n",
       "      <td>448577</td>\n",
       "      <td>389797</td>\n",
       "      <td>362202</td>\n",
       "      <td>482061</td>\n",
       "      <td>680984</td>\n",
       "      <td>805979</td>\n",
       "      <td>724664</td>\n",
       "      <td>785117</td>\n",
       "      <td>...</td>\n",
       "      <td>514502</td>\n",
       "      <td>519310</td>\n",
       "      <td>519334</td>\n",
       "      <td>508043</td>\n",
       "      <td>461042</td>\n",
       "      <td>478451</td>\n",
       "      <td>485710</td>\n",
       "      <td>507031</td>\n",
       "      <td>459015</td>\n",
       "      <td>439073</td>\n",
       "    </tr>\n",
       "    <tr>\n",
       "      <th>4</th>\n",
       "      <td>NaN</td>\n",
       "      <td>대구광역시</td>\n",
       "      <td>-</td>\n",
       "      <td>-</td>\n",
       "      <td>-</td>\n",
       "      <td>-</td>\n",
       "      <td>-</td>\n",
       "      <td>-</td>\n",
       "      <td>-</td>\n",
       "      <td>-</td>\n",
       "      <td>...</td>\n",
       "      <td>409938</td>\n",
       "      <td>398626</td>\n",
       "      <td>370817</td>\n",
       "      <td>370563</td>\n",
       "      <td>348642</td>\n",
       "      <td>351873</td>\n",
       "      <td>350213</td>\n",
       "      <td>351424</td>\n",
       "      <td>328228</td>\n",
       "      <td>321182</td>\n",
       "    </tr>\n",
       "  </tbody>\n",
       "</table>\n",
       "<p>5 rows × 50 columns</p>\n",
       "</div>"
      ],
      "text/plain": [
       "  전출지별   전입지별      1970      1971      1972      1973      1974      1975  \\\n",
       "0  NaN    NaN  이동자수 (명)  이동자수 (명)  이동자수 (명)  이동자수 (명)  이동자수 (명)  이동자수 (명)   \n",
       "1   전국     전국   4046536   4210164   3687938   4860418   5297969   9011440   \n",
       "2  NaN  서울특별시   1742813   1671705   1349333   1831858   2050392   3396662   \n",
       "3  NaN  부산광역시    448577    389797    362202    482061    680984    805979   \n",
       "4  NaN  대구광역시         -         -         -         -         -         -   \n",
       "\n",
       "       1976      1977  ...      2008      2009      2010      2011      2012  \\\n",
       "0  이동자수 (명)  이동자수 (명)  ...  이동자수 (명)  이동자수 (명)  이동자수 (명)  이동자수 (명)  이동자수 (명)   \n",
       "1   6773250   7397623  ...   8808256   8487275   8226594   8127195   7506691   \n",
       "2   2756510   2893403  ...   2025358   1873188   1733015   1721748   1555281   \n",
       "3    724664    785117  ...    514502    519310    519334    508043    461042   \n",
       "4         -         -  ...    409938    398626    370817    370563    348642   \n",
       "\n",
       "       2013      2014      2015      2016      2017  \n",
       "0  이동자수 (명)  이동자수 (명)  이동자수 (명)  이동자수 (명)  이동자수 (명)  \n",
       "1   7411784   7629098   7755286   7378430   7154226  \n",
       "2   1520090   1573594   1589431   1515602   1472937  \n",
       "3    478451    485710    507031    459015    439073  \n",
       "4    351873    350213    351424    328228    321182  \n",
       "\n",
       "[5 rows x 50 columns]"
      ]
     },
     "execution_count": 142,
     "metadata": {},
     "output_type": "execute_result"
    }
   ],
   "source": [
    "cityFD.head()"
   ]
  },
  {
   "cell_type": "code",
   "execution_count": 144,
   "metadata": {},
   "outputs": [],
   "source": [
    "cityFD = cityFD.drop(index=0)"
   ]
  },
  {
   "cell_type": "code",
   "execution_count": 146,
   "metadata": {},
   "outputs": [
    {
     "data": {
      "text/plain": [
       "전출지별    306\n",
       "전입지별      0\n",
       "1970      0\n",
       "1971      0\n",
       "1972      0\n",
       "1973      0\n",
       "1974      0\n",
       "1975      0\n",
       "1976      0\n",
       "1977      0\n",
       "1978      0\n",
       "1979      0\n",
       "1980      0\n",
       "1981      0\n",
       "1982      0\n",
       "1983      0\n",
       "1984      3\n",
       "1985      3\n",
       "1986      3\n",
       "1987      0\n",
       "1988      0\n",
       "1989      0\n",
       "1990      0\n",
       "1991      0\n",
       "1992      0\n",
       "1993      0\n",
       "1994      0\n",
       "1995      0\n",
       "1996      0\n",
       "1997      0\n",
       "1998      0\n",
       "1999      0\n",
       "2000      0\n",
       "2001      0\n",
       "2002      0\n",
       "2003      0\n",
       "2004      0\n",
       "2005      0\n",
       "2006      0\n",
       "2007      0\n",
       "2008      0\n",
       "2009      0\n",
       "2010      0\n",
       "2011      0\n",
       "2012      0\n",
       "2013      0\n",
       "2014      0\n",
       "2015      0\n",
       "2016      0\n",
       "2017      0\n",
       "dtype: int64"
      ]
     },
     "execution_count": 146,
     "metadata": {},
     "output_type": "execute_result"
    }
   ],
   "source": [
    "cityFD.isna().sum()"
   ]
  },
  {
   "cell_type": "code",
   "execution_count": 151,
   "metadata": {},
   "outputs": [
    {
     "data": {
      "text/plain": [
       "전출지별    0\n",
       "전입지별    0\n",
       "1970    0\n",
       "1971    0\n",
       "1972    0\n",
       "1973    0\n",
       "1974    0\n",
       "1975    0\n",
       "1976    0\n",
       "1977    0\n",
       "1978    0\n",
       "1979    0\n",
       "1980    0\n",
       "1981    0\n",
       "1982    0\n",
       "1983    0\n",
       "1984    0\n",
       "1985    0\n",
       "1986    0\n",
       "1987    0\n",
       "1988    0\n",
       "1989    0\n",
       "1990    0\n",
       "1991    0\n",
       "1992    0\n",
       "1993    0\n",
       "1994    0\n",
       "1995    0\n",
       "1996    0\n",
       "1997    0\n",
       "1998    0\n",
       "1999    0\n",
       "2000    0\n",
       "2001    0\n",
       "2002    0\n",
       "2003    0\n",
       "2004    0\n",
       "2005    0\n",
       "2006    0\n",
       "2007    0\n",
       "2008    0\n",
       "2009    0\n",
       "2010    0\n",
       "2011    0\n",
       "2012    0\n",
       "2013    0\n",
       "2014    0\n",
       "2015    0\n",
       "2016    0\n",
       "2017    0\n",
       "dtype: int64"
      ]
     },
     "execution_count": 151,
     "metadata": {},
     "output_type": "execute_result"
    }
   ],
   "source": [
    "cityFD['전출지별']=cityFD['전출지별'].ffill()\n",
    "cityFD = cityFD.dropna()\n",
    "cityFD.isna().sum()"
   ]
  },
  {
   "cell_type": "code",
   "execution_count": 165,
   "metadata": {},
   "outputs": [],
   "source": [
    "cityFD = cityFD.set_index(['전출지별','전입지별'])"
   ]
  },
  {
   "cell_type": "code",
   "execution_count": 155,
   "metadata": {},
   "outputs": [
    {
     "data": {
      "text/plain": [
       "전출지별     전입지별     1970    1971    1972    1973    1974    1975    1976    1977    1978    1979    1980    1981    1982    1983    1984    1985    1986    1987    1988    1989    1990    1991    1992    1993    1994    1995    1996    1997    1998    1999    2000    2001    2002    2003    2004    2005    2006    2007    2008    2009    2010    2011    2012    2013    2014    2015    2016    2017  \n",
       "강원도      강원도      113485  128222  112559  180716  130356  212434  154239  162520  170661  151052  186495  175961  179155  205866  185322  174284  174443  175327  172443  173953  167644  173466  161850  159416  163492  184202  158515  168235  171176  183780  171050  169491  182229  181717  167246  165077  170234  158066  161854  158826  153165  147142  140649  136041  145250  140018  140921  130963    1\n",
       "세종특별자치시  경상남도     -       -       -       -       -       -       -       -       -       -       -       -       -       -       -       -       -       -       -       -       -       -       -       -       -       -       -       -       -       -       -       -       -       -       -       -       -       -       -       -       -       -       196     212     241     344     411     488       1\n",
       "전국       대전광역시    -       -       -       -       -       -       -       -       -       -       -       -       -       -       -       -       -       -       -       256234  296756  310452  295662  335871  315639  314804  287663  295198  267578  322783  312560  304985  302944  304736  280028  287835  294814  283080  263532  252424  262432  264244  239635  230858  239559  220774  219252  211449    1\n",
       "         대구광역시    -       -       -       -       -       -       -       -       -       -       -       514009  553068  607848  552902  539361  533854  590786  579187  539730  526547  525249  558826  524585  545677  534013  507085  485263  462722  496811  477595  448898  466894  487515  418278  440350  428417  399853  409938  398626  370817  370563  348642  351873  350213  351424  328228  321182    1\n",
       "         광주광역시    -       -       -       -       -       -       -       -       -       -       -       -       -       -       -       -       254634  257011  336312  308307  330810  356080  346330  300357  312343  307188  298679  328978  295529  324045  301498  300467  294120  304505  284734  290429  301479  286105  268757  293879  268574  260561  228612  226696  243066  224603  213176  208138    1\n",
       "                                                                                                                                                                                                                                                                                                                                                                                                                   ..\n",
       "대구광역시    충청남도     -       -       -       -       -       -       -       -       -       -       -       2427    2983    3057    3250    3211    3280    3340    3164    1218    1303    1404    1302    1312    1272    1520    1924    2074    2047    1987    2087    2046    2014    2324    3163    2770    2594    2763    2717    2579    2730    2647    2706    2599    2682    2509    2323    2578      1\n",
       "         제주특별자치도  -       -       -       -       -       -       -       -       -       -       -       294     338     525     408     391     398     466     458     483     654     637     637     551     440     543     631     703     796     801     701     794     822     813     813     838     679     658     618     664     631     643     773     847     1061    1317    1394    1631      1\n",
       "         전라북도     -       -       -       -       -       -       -       -       -       -       -       1594    1649    1638    1377    1552    1553    1424    1174    1066    1043    983     941     876     786     922     951     1026    1061    1119    1016    1344    946     1310    959     900     863     999     970     935     860     1003    878     985     996     940     920     911       1\n",
       "         전라남도     -       -       -       -       -       -       -       -       -       -       -       1875    1782    1812    1933    1751    1526    1461    1173    1335    1159    1048    960     822     736     937     1030    990     1056    1246    971     1069    920     1053    896     1022    1016    975     904     1012    985     947     977     948     985     953     907     897       1\n",
       "충청북도     충청북도     65127   71722   60135   79667   81662   156257  97992   101842  112514  99194   141794  121778  132321  146556  144108  146670  143861  142281  147273  147953  178769  172749  159621  160096  156287  171036  153545  170682  151945  171230  156984  154462  165597  167043  150691  157381  160782  166855  159835  151216  153067  145679  133461  139959  136614  133264  124156  119825    1\n",
       "Name: count, Length: 321, dtype: int64"
      ]
     },
     "execution_count": 155,
     "metadata": {},
     "output_type": "execute_result"
    }
   ],
   "source": [
    "cityFD.value_counts()"
   ]
  },
  {
   "cell_type": "code",
   "execution_count": 169,
   "metadata": {},
   "outputs": [
    {
     "name": "stdout",
     "output_type": "stream",
     "text": [
      "<class 'pandas.core.frame.DataFrame'>\n",
      "MultiIndex: 321 entries, ('전국', '전국') to ('제주특별자치도', '제주특별자치도')\n",
      "Data columns (total 48 columns):\n",
      " #   Column  Non-Null Count  Dtype\n",
      "---  ------  --------------  -----\n",
      " 0   1970    321 non-null    int64\n",
      " 1   1971    321 non-null    int64\n",
      " 2   1972    321 non-null    int64\n",
      " 3   1973    321 non-null    int64\n",
      " 4   1974    321 non-null    int64\n",
      " 5   1975    321 non-null    int64\n",
      " 6   1976    321 non-null    int64\n",
      " 7   1977    321 non-null    int64\n",
      " 8   1978    321 non-null    int64\n",
      " 9   1979    321 non-null    int64\n",
      " 10  1980    321 non-null    int64\n",
      " 11  1981    321 non-null    int64\n",
      " 12  1982    321 non-null    int64\n",
      " 13  1983    321 non-null    int64\n",
      " 14  1984    321 non-null    int64\n",
      " 15  1985    321 non-null    int64\n",
      " 16  1986    321 non-null    int64\n",
      " 17  1987    321 non-null    int64\n",
      " 18  1988    321 non-null    int64\n",
      " 19  1989    321 non-null    int64\n",
      " 20  1990    321 non-null    int64\n",
      " 21  1991    321 non-null    int64\n",
      " 22  1992    321 non-null    int64\n",
      " 23  1993    321 non-null    int64\n",
      " 24  1994    321 non-null    int64\n",
      " 25  1995    321 non-null    int64\n",
      " 26  1996    321 non-null    int64\n",
      " 27  1997    321 non-null    int64\n",
      " 28  1998    321 non-null    int64\n",
      " 29  1999    321 non-null    int64\n",
      " 30  2000    321 non-null    int64\n",
      " 31  2001    321 non-null    int64\n",
      " 32  2002    321 non-null    int64\n",
      " 33  2003    321 non-null    int64\n",
      " 34  2004    321 non-null    int64\n",
      " 35  2005    321 non-null    int64\n",
      " 36  2006    321 non-null    int64\n",
      " 37  2007    321 non-null    int64\n",
      " 38  2008    321 non-null    int64\n",
      " 39  2009    321 non-null    int64\n",
      " 40  2010    321 non-null    int64\n",
      " 41  2011    321 non-null    int64\n",
      " 42  2012    321 non-null    int64\n",
      " 43  2013    321 non-null    int64\n",
      " 44  2014    321 non-null    int64\n",
      " 45  2015    321 non-null    int64\n",
      " 46  2016    321 non-null    int64\n",
      " 47  2017    321 non-null    int64\n",
      "dtypes: int64(48)\n",
      "memory usage: 122.5+ KB\n"
     ]
    }
   ],
   "source": [
    "cityFD = cityFD[cityFD.columns].replace('-','0')\n",
    "cityFD = cityFD.astype('int64')\n",
    "cityFD.info()"
   ]
  },
  {
   "cell_type": "code",
   "execution_count": 175,
   "metadata": {},
   "outputs": [
    {
     "data": {
      "text/html": [
       "<div>\n",
       "<style scoped>\n",
       "    .dataframe tbody tr th:only-of-type {\n",
       "        vertical-align: middle;\n",
       "    }\n",
       "\n",
       "    .dataframe tbody tr th {\n",
       "        vertical-align: top;\n",
       "    }\n",
       "\n",
       "    .dataframe thead th {\n",
       "        text-align: right;\n",
       "    }\n",
       "</style>\n",
       "<table border=\"1\" class=\"dataframe\">\n",
       "  <thead>\n",
       "    <tr style=\"text-align: right;\">\n",
       "      <th></th>\n",
       "      <th>1970</th>\n",
       "      <th>1971</th>\n",
       "      <th>1972</th>\n",
       "      <th>1973</th>\n",
       "      <th>1974</th>\n",
       "      <th>1975</th>\n",
       "      <th>1976</th>\n",
       "      <th>1977</th>\n",
       "      <th>1978</th>\n",
       "      <th>1979</th>\n",
       "      <th>...</th>\n",
       "      <th>2008</th>\n",
       "      <th>2009</th>\n",
       "      <th>2010</th>\n",
       "      <th>2011</th>\n",
       "      <th>2012</th>\n",
       "      <th>2013</th>\n",
       "      <th>2014</th>\n",
       "      <th>2015</th>\n",
       "      <th>2016</th>\n",
       "      <th>2017</th>\n",
       "    </tr>\n",
       "    <tr>\n",
       "      <th>전입지별</th>\n",
       "      <th></th>\n",
       "      <th></th>\n",
       "      <th></th>\n",
       "      <th></th>\n",
       "      <th></th>\n",
       "      <th></th>\n",
       "      <th></th>\n",
       "      <th></th>\n",
       "      <th></th>\n",
       "      <th></th>\n",
       "      <th></th>\n",
       "      <th></th>\n",
       "      <th></th>\n",
       "      <th></th>\n",
       "      <th></th>\n",
       "      <th></th>\n",
       "      <th></th>\n",
       "      <th></th>\n",
       "      <th></th>\n",
       "      <th></th>\n",
       "      <th></th>\n",
       "    </tr>\n",
       "  </thead>\n",
       "  <tbody>\n",
       "    <tr>\n",
       "      <th>전국</th>\n",
       "      <td>0</td>\n",
       "      <td>0</td>\n",
       "      <td>0</td>\n",
       "      <td>0</td>\n",
       "      <td>0</td>\n",
       "      <td>0</td>\n",
       "      <td>0</td>\n",
       "      <td>0</td>\n",
       "      <td>0</td>\n",
       "      <td>0</td>\n",
       "      <td>...</td>\n",
       "      <td>422676</td>\n",
       "      <td>411288</td>\n",
       "      <td>382657</td>\n",
       "      <td>383310</td>\n",
       "      <td>359206</td>\n",
       "      <td>363224</td>\n",
       "      <td>365739</td>\n",
       "      <td>364364</td>\n",
       "      <td>337488</td>\n",
       "      <td>333118</td>\n",
       "    </tr>\n",
       "    <tr>\n",
       "      <th>서울특별시</th>\n",
       "      <td>0</td>\n",
       "      <td>0</td>\n",
       "      <td>0</td>\n",
       "      <td>0</td>\n",
       "      <td>0</td>\n",
       "      <td>0</td>\n",
       "      <td>0</td>\n",
       "      <td>0</td>\n",
       "      <td>0</td>\n",
       "      <td>0</td>\n",
       "      <td>...</td>\n",
       "      <td>14824</td>\n",
       "      <td>15469</td>\n",
       "      <td>13915</td>\n",
       "      <td>13310</td>\n",
       "      <td>13838</td>\n",
       "      <td>13673</td>\n",
       "      <td>13735</td>\n",
       "      <td>13038</td>\n",
       "      <td>12802</td>\n",
       "      <td>13011</td>\n",
       "    </tr>\n",
       "    <tr>\n",
       "      <th>부산광역시</th>\n",
       "      <td>0</td>\n",
       "      <td>0</td>\n",
       "      <td>0</td>\n",
       "      <td>0</td>\n",
       "      <td>0</td>\n",
       "      <td>0</td>\n",
       "      <td>0</td>\n",
       "      <td>0</td>\n",
       "      <td>0</td>\n",
       "      <td>0</td>\n",
       "      <td>...</td>\n",
       "      <td>5066</td>\n",
       "      <td>5207</td>\n",
       "      <td>5050</td>\n",
       "      <td>4906</td>\n",
       "      <td>5216</td>\n",
       "      <td>5543</td>\n",
       "      <td>6157</td>\n",
       "      <td>5182</td>\n",
       "      <td>4860</td>\n",
       "      <td>4840</td>\n",
       "    </tr>\n",
       "    <tr>\n",
       "      <th>대구광역시</th>\n",
       "      <td>0</td>\n",
       "      <td>0</td>\n",
       "      <td>0</td>\n",
       "      <td>0</td>\n",
       "      <td>0</td>\n",
       "      <td>0</td>\n",
       "      <td>0</td>\n",
       "      <td>0</td>\n",
       "      <td>0</td>\n",
       "      <td>0</td>\n",
       "      <td>...</td>\n",
       "      <td>311113</td>\n",
       "      <td>298755</td>\n",
       "      <td>274649</td>\n",
       "      <td>276495</td>\n",
       "      <td>254661</td>\n",
       "      <td>258107</td>\n",
       "      <td>252642</td>\n",
       "      <td>259185</td>\n",
       "      <td>240722</td>\n",
       "      <td>236143</td>\n",
       "    </tr>\n",
       "    <tr>\n",
       "      <th>인천광역시</th>\n",
       "      <td>0</td>\n",
       "      <td>0</td>\n",
       "      <td>0</td>\n",
       "      <td>0</td>\n",
       "      <td>0</td>\n",
       "      <td>0</td>\n",
       "      <td>0</td>\n",
       "      <td>0</td>\n",
       "      <td>0</td>\n",
       "      <td>0</td>\n",
       "      <td>...</td>\n",
       "      <td>2125</td>\n",
       "      <td>2003</td>\n",
       "      <td>1968</td>\n",
       "      <td>2000</td>\n",
       "      <td>1979</td>\n",
       "      <td>2202</td>\n",
       "      <td>2015</td>\n",
       "      <td>1987</td>\n",
       "      <td>1962</td>\n",
       "      <td>1930</td>\n",
       "    </tr>\n",
       "  </tbody>\n",
       "</table>\n",
       "<p>5 rows × 48 columns</p>\n",
       "</div>"
      ],
      "text/plain": [
       "       1970  1971  1972  1973  1974  1975  1976  1977  1978  1979  ...  \\\n",
       "전입지별                                                               ...   \n",
       "전국        0     0     0     0     0     0     0     0     0     0  ...   \n",
       "서울특별시     0     0     0     0     0     0     0     0     0     0  ...   \n",
       "부산광역시     0     0     0     0     0     0     0     0     0     0  ...   \n",
       "대구광역시     0     0     0     0     0     0     0     0     0     0  ...   \n",
       "인천광역시     0     0     0     0     0     0     0     0     0     0  ...   \n",
       "\n",
       "         2008    2009    2010    2011    2012    2013    2014    2015    2016  \\\n",
       "전입지별                                                                            \n",
       "전국     422676  411288  382657  383310  359206  363224  365739  364364  337488   \n",
       "서울특별시   14824   15469   13915   13310   13838   13673   13735   13038   12802   \n",
       "부산광역시    5066    5207    5050    4906    5216    5543    6157    5182    4860   \n",
       "대구광역시  311113  298755  274649  276495  254661  258107  252642  259185  240722   \n",
       "인천광역시    2125    2003    1968    2000    1979    2202    2015    1987    1962   \n",
       "\n",
       "         2017  \n",
       "전입지별           \n",
       "전국     333118  \n",
       "서울특별시   13011  \n",
       "부산광역시    4840  \n",
       "대구광역시  236143  \n",
       "인천광역시    1930  \n",
       "\n",
       "[5 rows x 48 columns]"
      ]
     },
     "execution_count": 175,
     "metadata": {},
     "output_type": "execute_result"
    }
   ],
   "source": [
    "cityFD.head(5)\n",
    "daeguCityFD = cityFD.loc['대구광역시']\n",
    "daeguCityFD.head()"
   ]
  },
  {
   "cell_type": "code",
   "execution_count": 218,
   "metadata": {},
   "outputs": [
    {
     "data": {
      "image/png": "[encoded data removed]",
      "text/plain": [
       "<Figure size 2000x800 with 1 Axes>"
      ]
     },
     "metadata": {},
     "output_type": "display_data"
    }
   ],
   "source": [
    "citySum = daeguCityFD.iloc[1:].T.sum().to_dict()\n",
    "plt.figure(figsize=(20,8))\n",
    "for idx, val in citySum.items():\n",
    "    plt.bar(idx, height=val)\n",
    "plt.show()"
   ]
  },
  {
   "cell_type": "code",
   "execution_count": 219,
   "metadata": {},
   "outputs": [
    {
     "data": {
      "image/png": "[encoded data removed]",
      "text/plain": [
       "<Figure size 2000x800 with 1 Axes>"
      ]
     },
     "metadata": {},
     "output_type": "display_data"
    }
   ],
   "source": [
    "citySR = daeguCityFD.iloc[1:].sum()\n",
    "plt.figure(figsize=(20,8))\n",
    "plt.plot(citySR.index,citySR.values, 'r.-', label=\"인구수 변화 그래프\" )\n",
    "plt.show()"
   ]
  },
  {
   "cell_type": "code",
   "execution_count": 223,
   "metadata": {},
   "outputs": [
    {
     "data": {
      "image/png": "[encoded data removed]",
      "text/plain": [
       "<Figure size 2000x800 with 1 Axes>"
      ]
     },
     "metadata": {},
     "output_type": "display_data"
    }
   ],
   "source": [
    "citySum = daeguCityFD.iloc[0].to_dict()\n",
    "plt.figure(figsize=(20,8))\n",
    "for idx, val in citySum.items():\n",
    "    plt.bar(idx, height=val)\n",
    "plt.show()"
   ]
  },
  {
   "cell_type": "code",
   "execution_count": 231,
   "metadata": {},
   "outputs": [
    {
     "data": {
      "image/png": "[encoded data removed]",
      "text/plain": [
       "<Figure size 2000x800 with 1 Axes>"
      ]
     },
     "metadata": {},
     "output_type": "display_data"
    }
   ],
   "source": [
    "citySum = cityFD.iloc[0].to_dict()\n",
    "plt.figure(figsize=(20,8))\n",
    "for idx, val in citySum.items():\n",
    "    plt.bar(idx, height=val)\n",
    "plt.show()"
   ]
  },
  {
   "cell_type": "code",
   "execution_count": null,
   "metadata": {},
   "outputs": [],
   "source": [
    "## 타 지역에서 본인 지역으로 온 수 - 본인 지역을 제외한 나머지 지역에 전출낸 수 "
   ]
  },
  {
   "cell_type": "code",
   "execution_count": 263,
   "metadata": {},
   "outputs": [
    {
     "data": {
      "text/plain": [
       "전입지별\n",
       "서울특별시      109885155\n",
       "부산광역시       31531929\n",
       "대구광역시       17346829\n",
       "인천광역시       17565815\n",
       "광주광역시        9156002\n",
       "대전광역시        8073781\n",
       "울산광역시        3561967\n",
       "세종특별자치시       344234\n",
       "경기도         75242949\n",
       "강원도         11866760\n",
       "충청북도        10278784\n",
       "충청남도        14980568\n",
       "전라북도        14521353\n",
       "전라남도        16739218\n",
       "경상북도        22693066\n",
       "경상남도        24731843\n",
       "제주특별자치도      3412540\n",
       "dtype: int64"
      ]
     },
     "execution_count": 263,
     "metadata": {},
     "output_type": "execute_result"
    }
   ],
   "source": [
    "cityFD2 = cityFD.T.sum()\n",
    "# cityFD2.loc[cityFD2.index[1:]]\n",
    "allCitySR = cityFD2.loc['전국'][1:]\n",
    "allCitySR"
   ]
  },
  {
   "cell_type": "code",
   "execution_count": 293,
   "metadata": {},
   "outputs": [],
   "source": [
    "allCitySR2 = allCitySR.copy()\n",
    "cityFD2 = cityFD.T.sum()\n",
    "for cn in allCitySR2.index:\n",
    "    allCitySR2[cn] = allCitySR2[cn] - cityFD2.loc[(cn,cn)]\n",
    "allCitySR2 = allCitySR2.to_dict()"
   ]
  },
  {
   "cell_type": "code",
   "execution_count": 295,
   "metadata": {},
   "outputs": [
    {
     "data": {
      "image/png": "[encoded data removed]",
      "text/plain": [
       "<Figure size 2000x800 with 1 Axes>"
      ]
     },
     "metadata": {},
     "output_type": "display_data"
    }
   ],
   "source": [
    "plt.figure(figsize=(20,8))\n",
    "for idx, val in allCitySR2.items():\n",
    "    plt.bar(idx, height=val)\n",
    "plt.show()"
   ]
  }
 ],
 "metadata": {
  "kernelspec": {
   "display_name": "py39",
   "language": "python",
   "name": "python3"
  },
  "language_info": {
   "codemirror_mode": {
    "name": "ipython",
    "version": 3
   },
   "file_extension": ".py",
   "mimetype": "text/x-python",
   "name": "python",
   "nbconvert_exporter": "python",
   "pygments_lexer": "ipython3",
   "version": "3.9.19"
  }
 },
 "nbformat": 4,
 "nbformat_minor": 2
}
